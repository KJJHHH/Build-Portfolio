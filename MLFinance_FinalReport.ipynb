{
  "cells": [
    {
      "cell_type": "markdown",
      "metadata": {
        "id": "eJeectII-JOD"
      },
      "source": [
        "# Settings"
      ]
    },
    {
      "cell_type": "code",
      "execution_count": null,
      "metadata": {
        "colab": {
          "base_uri": "https://localhost:8080/"
        },
        "id": "cHq1xlrD5ynO",
        "outputId": "f16610fa-dc00-4ea9-988e-cf1978a364ad"
      },
      "outputs": [
        {
          "name": "stdout",
          "output_type": "stream",
          "text": [
            "Mounted at /content/drive\n"
          ]
        }
      ],
      "source": [
        "import numpy as np\n",
        "import pandas as pd\n",
        "import os\n",
        "import copy\n",
        "import math\n",
        "import torch\n",
        "# Preprocessing\n",
        "from sklearn.model_selection import train_test_split\n",
        "from sklearn.preprocessing import PolynomialFeatures\n",
        "# linear\n",
        "from sklearn import linear_model\n",
        "# non-linear\n",
        "import xgboost as xgb\n",
        "from sklearn.ensemble import RandomForestRegressor\n",
        "from sklearn.experimental import enable_halving_search_cv\n",
        "from sklearn.model_selection import HalvingGridSearchCV\n",
        "# NN\n",
        "from tensorflow.keras import Sequential\n",
        "from tensorflow.keras.layers import Dense, Dropout\n",
        "from tensorflow.keras.losses import BinaryCrossentropy\n",
        "from tensorflow.keras.activations import relu\n",
        "from tensorflow.keras.optimizers import Adam\n",
        "from tensorflow.keras import layers\n",
        "from tensorflow.keras import regularizers as reg\n",
        "import tensorflow as tf\n",
        "# Evaluation\n",
        "from sklearn.model_selection import cross_val_score\n",
        "from sklearn.metrics import confusion_matrix, mean_squared_error\n",
        "# mount\n",
        "from google.colab import drive\n",
        "drive.mount('/content/drive')\n",
        "# path\n",
        "config = {\n",
        "    'dir' : ['drive/MyDrive/aaaaa/data','/content/drive/MyDrive/Finance/Class/MLandFinance/Finals/data/']\n",
        "}\n",
        "try:\n",
        "  os.chdir(config['dir'][1])\n",
        "except:\n",
        "  os.chdir(config['dir'][0])\n",
        "# validate\n",
        "from sklearn.metrics import confusion_matrix\n",
        "from sklearn.metrics import accuracy_score\n",
        "from sklearn.metrics import mean_squared_error\n",
        "# graph\n",
        "import matplotlib.pyplot as plt\n",
        "# other\n",
        "import warnings\n",
        "warnings.filterwarnings('ignore')"
      ]
    },
    {
      "cell_type": "code",
      "execution_count": null,
      "metadata": {
        "colab": {
          "base_uri": "https://localhost:8080/"
        },
        "id": "Jl67dG6qtrZx",
        "outputId": "b65601d3-8c65-4394-b378-1d00af9e7c1f"
      },
      "outputs": [
        {
          "name": "stdout",
          "output_type": "stream",
          "text": [
            "capital.csv             index.csv                   price_week.csv\n",
            "cleaned_data.xlsx       institutional_investor.csv  \u001b[0m\u001b[01;34mrapidsai-csp-utils\u001b[0m/\n",
            "condacolab_install.log  market.csv                  revenue.csv\n",
            "credit.csv              model.pth                   temp_X\n",
            "data.pickle             nn_pred.pickle              temp_y\n",
            "esg.csv                 nn_ret.pickle\n",
            "esg_rank.csv            price.csv\n"
          ]
        }
      ],
      "source": [
        "%ls"
      ]
    },
    {
      "cell_type": "markdown",
      "metadata": {
        "id": "3romliCWkTbQ"
      },
      "source": [
        "# gpu\n",
        "if run xgboost and rfr with gpu\n",
        "https://colab.research.google.com/drive/1xnTpVS194BJ0pOPuxN4GOmypdu2RvwdH"
      ]
    },
    {
      "cell_type": "code",
      "execution_count": null,
      "metadata": {
        "id": "ytNaIij7kV2g"
      },
      "outputs": [],
      "source": [
        "# This get the RAPIDS-Colab install files and test check your GPU.  Run this and the next cell only.\n",
        "# Please read the output of this cell.  If your Colab Instance is not RAPIDS compatible, it will warn you and give you remediation steps.\n",
        "!git clone https://github.com/rapidsai/rapidsai-csp-utils.git\n",
        "!python rapidsai-csp-utils/colab/env-check.py\n",
        "!nvidia-smi"
      ]
    },
    {
      "cell_type": "markdown",
      "metadata": {
        "id": "YcDFI0JpZHxw"
      },
      "source": [
        "##### initialization of gpu (don't run)"
      ]
    },
    {
      "cell_type": "code",
      "execution_count": null,
      "metadata": {
        "id": "68bcbcuuxdKu"
      },
      "outputs": [],
      "source": [
        "# This will update the Colab environment and restart the kernel.  Don't run the next cell until you see the session crash.\n",
        "!bash rapidsai-csp-utils/colab/update_gcc.sh\n",
        "import os\n",
        "os._exit(00)"
      ]
    },
    {
      "cell_type": "code",
      "execution_count": null,
      "metadata": {
        "id": "DgEvuFIHkZO4"
      },
      "outputs": [],
      "source": [
        "# This will install CondaColab.  This will restart your kernel one last time.  Run this cell by itself and only run the next cell once you see the session crash.\n",
        "import condacolab\n",
        "condacolab.install()"
      ]
    },
    {
      "cell_type": "markdown",
      "metadata": {
        "id": "vXoD33izZOg0"
      },
      "source": [
        "##### gpu check"
      ]
    },
    {
      "cell_type": "code",
      "execution_count": null,
      "metadata": {
        "colab": {
          "base_uri": "https://localhost:8080/"
        },
        "id": "LvWGx67ekbO7",
        "outputId": "4f363a56-da32-411d-b3b0-836a3bc4ed32"
      },
      "outputs": [
        {
          "name": "stdout",
          "output_type": "stream",
          "text": [
            "✨🍰✨ Everything looks OK!\n"
          ]
        }
      ],
      "source": [
        "# you can now run the rest of the cells as normal\n",
        "import condacolab\n",
        "condacolab.check()"
      ]
    },
    {
      "cell_type": "code",
      "execution_count": null,
      "metadata": {
        "colab": {
          "base_uri": "https://localhost:8080/"
        },
        "id": "LMtsQSJMkhH7",
        "outputId": "28a50c64-208f-426b-82f9-9fa551e18757"
      },
      "outputs": [],
      "source": [
        "# Installing RAPIDS is now 'python rapidsai-csp-utils/colab/install_rapids.py <release> <packages>'\n",
        "# The <release> options are 'stable' and 'nightly'.  Leaving it blank or adding any other words will default to stable.\n",
        "!python rapidsai-csp-utils/colab/install_rapids.py stable\n",
        "import os\n",
        "os.environ['NUMBAPRO_NVVM'] = '/usr/local/cuda/nvvm/lib64/libnvvm.so'\n",
        "os.environ['NUMBAPRO_LIBDEVICE'] = '/usr/local/cuda/nvvm/libdevice/'\n",
        "os.environ['CONDA_PREFIX'] = '/usr/local'"
      ]
    },
    {
      "cell_type": "code",
      "execution_count": null,
      "metadata": {
        "id": "R5Aofk5nYd3Q"
      },
      "outputs": [],
      "source": [
        "if torch.cuda.is_available():\n",
        "  import cuml\n",
        "  import cudf"
      ]
    },
    {
      "cell_type": "markdown",
      "metadata": {
        "id": "8dUVK0yY-Cq6"
      },
      "source": [
        "# Data preprocessing\n",
        "\n"
      ]
    },
    {
      "cell_type": "code",
      "execution_count": null,
      "metadata": {
        "id": "ViA_AbuqQLZf"
      },
      "outputs": [],
      "source": [
        "# 缺資料：index、capital\n",
        "price = pd.read_csv(\"price_week.csv\", encoding=\"big5\")\n",
        "revenue = pd.read_csv(\"revenue.csv\", encoding=\"big5\")\n",
        "institution = pd.read_csv(\"institutional_investor.csv\", encoding=\"big5\")\n"
      ]
    },
    {
      "cell_type": "markdown",
      "metadata": {
        "id": "v1QqUK0NviPI"
      },
      "source": [
        "##### 1. Revenue"
      ]
    },
    {
      "cell_type": "code",
      "execution_count": null,
      "metadata": {
        "colab": {
          "base_uri": "https://localhost:8080/"
        },
        "id": "aQRtW2SQ2y3b",
        "outputId": "cb7e6b5d-4001-4868-9ac4-01679f9ed5f8"
      },
      "outputs": [
        {
          "name": "stdout",
          "output_type": "stream",
          "text": [
            "(19661, 42)\n",
            "(17457, 42)\n",
            "['證券代碼', '年月', '營收發布日']\n"
          ]
        }
      ],
      "source": [
        "# ------------------------------\n",
        "# date: set the release date to 10th of next month\n",
        "revenue[\"營收發布日\"] = pd.to_datetime(revenue[\"年月\"], format = \"%Y%m\") + pd.DateOffset(days = 9) + pd.DateOffset(months = 1)\n",
        "\n",
        "# ------------------------------\n",
        "# na\n",
        "cols = (revenue.isna().sum()).index\n",
        "for k, i in enumerate(revenue.isna().sum()/len(revenue)):\n",
        "  if i > 0.2:\n",
        "    revenue.drop(cols[k], axis = 1, inplace = True)\n",
        "print(revenue.shape)\n",
        "corp = revenue[\"證券代碼\"].unique()\n",
        "rev_ = pd.DataFrame()\n",
        "for i in corp:\n",
        "  group = revenue[revenue[\"證券代碼\"] == i]\n",
        "  group = group.fillna(method = \"ffill\")\n",
        "  group = group.dropna()\n",
        "  rev_ = pd.concat([rev_, group], axis = 0)\n",
        "print(rev_.shape)\n",
        "\n",
        "# ------------------------------\n",
        "# drop column: drop nonnumerical\n",
        "nonum_col = []\n",
        "for i in rev_.columns:\n",
        "  if isinstance(rev_[i].iloc[1], np.float64):\n",
        "    pass\n",
        "  else:\n",
        "    # print(i)\n",
        "    nonum_col.append(i)\n",
        "print(nonum_col)\n",
        "rev_num = rev_.drop(nonum_col, axis = 1)\n",
        "rev_nonum = rev_[nonum_col]\n",
        "rev_nonum = rev_nonum.drop([\"年月\"], axis = 1)\n",
        "\n",
        "rev_ = pd.concat([rev_nonum, pd.DataFrame(rev_num).set_index(rev_nonum.index)], axis =1)# no pca"
      ]
    },
    {
      "cell_type": "markdown",
      "metadata": {
        "id": "aeKTE7VCM_fw"
      },
      "source": [
        "##### 2. price"
      ]
    },
    {
      "cell_type": "code",
      "execution_count": null,
      "metadata": {
        "colab": {
          "base_uri": "https://localhost:8080/"
        },
        "id": "XKiPO8OGzKwx",
        "outputId": "cf7260ea-bd98-427d-afec-887b2265e265"
      },
      "outputs": [
        {
          "data": {
            "text/plain": [
              "84"
            ]
          },
          "execution_count": 71,
          "metadata": {},
          "output_type": "execute_result"
        }
      ],
      "source": [
        "price.head(2)\n",
        "# print(price[['開盤價(元)_週', '收盤價(元)_週', '報酬率％_週', '股價漲跌(元)']])\n",
        "# price.columns\n",
        "len(price[\"證券代碼\"].unique())"
      ]
    },
    {
      "cell_type": "code",
      "execution_count": null,
      "metadata": {
        "colab": {
          "base_uri": "https://localhost:8080/"
        },
        "id": "qdM1Fk8nDXPq",
        "outputId": "b8ae1847-f001-4e3b-e836-8dcae7398d5c"
      },
      "outputs": [
        {
          "name": "stdout",
          "output_type": "stream",
          "text": [
            "(68982, 29)\n",
            "(68982, 20)\n",
            "(68879, 20)\n",
            "(68879, 18)\n",
            "證券代碼 <class 'str'>\n",
            "年月日 <class 'pandas._libs.tslibs.timestamps.Timestamp'>\n",
            "市場別 <class 'str'>\n",
            "max_corr: 開盤價(元)_週      1.0\n",
            "最高價(元)_週      1.0\n",
            "最低價(元)_週      1.0\n",
            "收盤價(元)_週      1.0\n",
            "成交量(千股)_週     1.0\n",
            "成交值(千元)_週     1.0\n",
            "報酬率％_週        1.0\n",
            "週轉率％_週        1.0\n",
            "流通在外股數(千股)    1.0\n",
            "市值(百萬元)       1.0\n",
            "成交筆數(筆)       1.0\n",
            "股價淨值比-TEJ     1.0\n",
            "股價營收比-TEJ     1.0\n",
            "股價漲跌(元)       1.0\n",
            "高低價差%         1.0\n",
            "dtype: float64\n"
          ]
        }
      ],
      "source": [
        "# ------------------------------date\n",
        "# date: set the release date to 10th of next month\n",
        "price[\"年月日\"] = pd.to_datetime(price[\"年月日\"], format = \"%Y%m%d\") #  + pd.DateOffset(days = 9) + pd.DateOffset(months = 1)\n",
        "price['報酬率％_週'] = price['報酬率％_週'].shift(-1)\n",
        "# ------------------------------na\n",
        "# na\n",
        "cols = (price.isna().sum()).index\n",
        "print(price.shape)\n",
        "for k, i in enumerate(price.isna().sum()/len(price)):\n",
        "  if i > 0.005:# print(\"too many na:\", cols[k]) # drop with too many na\n",
        "    price.drop(cols[k], axis = 1, inplace = True)\n",
        "  else:# print(\"not too much:\", i)\n",
        "    pass\n",
        "print(price.shape)\n",
        "corp = price[\"證券代碼\"].unique()\n",
        "price_ = pd.DataFrame()\n",
        "for i in corp:\n",
        "  group = price[price[\"證券代碼\"] == i]\n",
        "  group = group.fillna(method = \"ffill\")\n",
        "  group = group.dropna()\n",
        "  price_ = pd.concat([price_, group], axis = 0)\n",
        "print(price_.shape)\n",
        "# ------------------------------\n",
        "# columns with future info\n",
        "price_ = price_.drop(['報酬率-Ln', '該週結束日'], axis = 1)\n",
        "print(price_.shape)\n",
        "# ------------------------------type\n",
        "# drop column: drop nonnumerical\n",
        "nonum_col = []\n",
        "for i in price_.columns:\n",
        "  if isinstance(price_[i].iloc[1], (np.float64, np.int64)):\n",
        "    pass\n",
        "  else:\n",
        "    print(i, type(price_[i].iloc[1]))\n",
        "    nonum_col.append(i)# print(price[nonnum_col[2]])\n",
        "\n",
        "price_num = price_.drop(nonum_col, axis = 1)\n",
        "price_nonum = price_[nonum_col]\n",
        "# ------------------------------cov\n",
        "# check cov\n",
        "print(\"max_corr:\", price_num.corr().max())"
      ]
    },
    {
      "cell_type": "markdown",
      "metadata": {
        "id": "cd5q9ktNRRkP"
      },
      "source": [
        "##### 3. institution: 三大法人"
      ]
    },
    {
      "cell_type": "code",
      "execution_count": null,
      "metadata": {
        "colab": {
          "base_uri": "https://localhost:8080/"
        },
        "id": "7DByp7khRUwF",
        "outputId": "e0162c86-a477-4b72-df28-275f82cfd88e"
      },
      "outputs": [
        {
          "name": "stdout",
          "output_type": "stream",
          "text": [
            "(338075, 40)\n",
            "(338075, 32)\n"
          ]
        }
      ],
      "source": [
        "# ------------------------------\n",
        "# date: set the release date to 10th of next month\n",
        "institution[\"年月日\"] = pd.to_datetime(institution[\"年月日\"], format = \"%Y%m%d\")\n",
        "\n",
        "# ------------------------------\n",
        "# na\n",
        "cols = (institution.isna().sum()).index\n",
        "print(institution.shape) # orirgin shape\n",
        "for k, i in enumerate(institution.isna().sum()/len(institution)):\n",
        "  if i > 0.2:\n",
        "    # print(cols[k])\n",
        "    institution.drop(cols[k], axis = 1, inplace = True)\n",
        "print(institution.shape)\n",
        "corp = institution[\"證券代碼\"].unique()\n",
        "ins_ = pd.DataFrame()\n",
        "for i in corp:\n",
        "  group = institution[institution[\"證券代碼\"] == i]\n",
        "  group = group.fillna(method = \"ffill\")\n",
        "  group = group.dropna()\n",
        "  ins_ = pd.concat([ins_, group], axis = 0)\n",
        "print(ins_.shape)\n",
        "\n",
        "# ------------------------------\n",
        "# check numerical\n",
        "nonum_col = []\n",
        "for i in ins_.columns:\n",
        "  if isinstance(ins_[i].iloc[1], (np.int64, np.float64)):\n",
        "    pass\n",
        "  else:\n",
        "    print(i, type(ins_[i].iloc[1]))\n",
        "    nonum_col.append(i)\n",
        "ins_num = ins_.drop(nonum_col, axis = 1)\n",
        "ins_nonum = ins_[nonum_col]\n",
        "# print(revenue_num)  print(revenue_nonnum)\n",
        "\n",
        "# ------------------------------\n",
        "# standard scaler\n",
        "\n",
        "\n",
        "# ------------------------------\n",
        "# check cov\n",
        "ins_num.corr().max()\n",
        "\n",
        "# ------------------------------\n",
        "# Perform PCA\n",
        "# pca = PCA(n_components=5)\n",
        "# rev_num = pca.fit_transform(rev_num)\n",
        "# rev = pd.concat([rev_nonnum, pd.DataFrame(rev_num).set_index(rev_nonnum.index)], axis =1)\n",
        "ins_ = pd.concat([ins_nonum, pd.DataFrame(ins_num).set_index(ins_nonum.index)], axis =1)# no pca"
      ]
    },
    {
      "cell_type": "markdown",
      "metadata": {
        "id": "stlL9T6-SqWV"
      },
      "source": [
        "##### All"
      ]
    },
    {
      "cell_type": "code",
      "execution_count": null,
      "metadata": {
        "colab": {
          "base_uri": "https://localhost:8080/"
        },
        "id": "9Xs_MOC2SsEB",
        "outputId": "8dfdab86-3eb1-4068-8548-ac6f358a6b60"
      },
      "outputs": [
        {
          "name": "stdout",
          "output_type": "stream",
          "text": [
            "(84121, 87)\n",
            "(61241, 87)\n"
          ]
        }
      ],
      "source": [
        "# ------------------------------ concat\n",
        "price_.head(2) # 年月日、證券代碼\n",
        "rev_.head(2) # 營收發布日、證券代碼\n",
        "ins_.head(2) # 年月日、證券代碼\n",
        "rev_ = rev_.rename(columns = {\"營收發布日\": \"年月日\"})\n",
        "data = pd.merge(price_, rev_, on=['年月日', '證券代碼'], how = \"outer\").merge(ins_, on=['年月日', '證券代碼'], how = \"left\")\n",
        "# ------------------------------ na\n",
        "# print(data.isna().sum())\n",
        "corp = data[\"證券代碼\"].unique()\n",
        "data_ = pd.DataFrame()\n",
        "print(data.shape)\n",
        "for i in corp:\n",
        "  # 有些revenue資料設定會在假日，outer join後讓開盤價為index fillna後再變回欄位，在除去開盤價為缺失值的row\n",
        "  group = data[data[\"證券代碼\"] == i].set_index(\"開盤價(元)_週\") # .sort_values('年月日', ascending=True)\n",
        "  group = group.fillna(method = \"ffill\").reset_index()\n",
        "  group = group.dropna()\n",
        "  data_ = pd.concat([data_, group], axis = 0)\n",
        "print(data_.shape)\n",
        "data_[\"weight\"] = data_[\"市值(百萬元)\"]"
      ]
    },
    {
      "cell_type": "markdown",
      "metadata": {
        "id": "wYSztq-mjHq8"
      },
      "source": [
        "##### Encoding"
      ]
    },
    {
      "cell_type": "code",
      "execution_count": null,
      "metadata": {
        "id": "Sj9vABZaxWQR"
      },
      "outputs": [],
      "source": [
        "#data_.columns"
      ]
    },
    {
      "cell_type": "code",
      "execution_count": null,
      "metadata": {
        "colab": {
          "base_uri": "https://localhost:8080/"
        },
        "id": "4HzVm-IYjJtW",
        "outputId": "cd4e1ac4-1ce8-4d10-81a2-d8be59390157"
      },
      "outputs": [
        {
          "name": "stdout",
          "output_type": "stream",
          "text": [
            "證券代碼 <class 'str'>\n",
            "年月日 <class 'pandas._libs.tslibs.timestamps.Timestamp'>\n",
            "市場別 <class 'str'>\n"
          ]
        }
      ],
      "source": [
        "for i in data_.columns:\n",
        "  if isinstance(data_[i].iloc[1], (np.float64, np.int64)):\n",
        "    pass\n",
        "  else:\n",
        "    print(i, type(data_[i].iloc[1]))\n",
        "data_[\"市場別\"].unique()\n",
        "d = pd.get_dummies(data_, columns = [\"市場別\"])\n",
        "\n",
        "# d = d.resample(\"W\", on = \"年月日\").last().reset_index()\n",
        "#d\n"
      ]
    },
    {
      "cell_type": "markdown",
      "metadata": {
        "id": "7myXJowrlFGh"
      },
      "source": [
        "##### Standardisation"
      ]
    },
    {
      "cell_type": "code",
      "execution_count": null,
      "metadata": {
        "id": "bsIIA-_h9vM6"
      },
      "outputs": [],
      "source": [
        "date_range = pd.date_range(start='2000-01-01', end='2023-05-23', freq='D')\n",
        "friday = set()\n",
        "d_dates = set(pd.to_datetime(d[\"年月日\"]).dt.date)\n",
        "\n",
        "for date in date_range:\n",
        "    if date.weekday() == 4:  # Check if the weekday is Friday (Monday = 0, Tuesday = 1, ..., Sunday = 6)\n",
        "        if date.date() in d_dates:\n",
        "            friday.add(date)\n",
        "        else:\n",
        "            for i in range(1, 6):  # Check the previous days starting from Saturday to Monday\n",
        "                previous_day = date - pd.DateOffset(days=i)\n",
        "                if previous_day.date() in d_dates:\n",
        "                    friday.add(previous_day)\n",
        "                    break\n",
        "\n",
        "friday = sorted(list(friday))  # Convert back to a list if necessary\n"
      ]
    },
    {
      "cell_type": "code",
      "execution_count": null,
      "metadata": {
        "id": "eyQBxR9SlHis"
      },
      "outputs": [],
      "source": [
        "from sklearn.preprocessing import StandardScaler\n",
        "d_ = pd.DataFrame()\n",
        "\n",
        "n = 0\n",
        "for i in friday:\n",
        "  #print(i)\n",
        "  group = d[d[\"年月日\"] == i].set_index([\"證券代碼\", \"年月日\", \"weight\"])\n",
        "  #print(group.shape)\n",
        "  index = group.index\n",
        "  encoding = group[[\"市場別_OTC\",\t\"市場別_TSE\", \"報酬率％_週\"]]\n",
        "  colnames = group.drop([\"市場別_OTC\",\t\"市場別_TSE\", \"報酬率％_週\"], axis = 1).columns\n",
        "  scaler = StandardScaler()\n",
        "  d_scaler = pd.DataFrame(scaler.fit_transform(group.drop([\"市場別_OTC\",\t\"市場別_TSE\", \"報酬率％_週\"], axis = 1))).set_index(index)\n",
        "  d_scaler.columns = colnames\n",
        "  d_scaler = pd.concat([d_scaler, encoding], axis = 1)\n",
        "  d_ = pd.concat([d_, d_scaler], axis = 0)\n",
        "#d_.head()\n",
        "\n"
      ]
    },
    {
      "cell_type": "markdown",
      "metadata": {
        "id": "PrLBJEISDUUh"
      },
      "source": [
        "#####pickle dump"
      ]
    },
    {
      "cell_type": "code",
      "execution_count": null,
      "metadata": {
        "id": "W4aZ6ASXDa9C"
      },
      "outputs": [],
      "source": [
        "import pickle\n",
        "try:\n",
        "  with open(\"/content/drive/MyDrive/Finance/Class/MLandFinance/Finals/data/data.pickle\", \"wb\") as f:\n",
        "    pickle.dump(d_, f)\n",
        "except:\n",
        "  with open(\"/content/drive/MyDrive/aaaaa/data/data.pickle\", \"wb\") as f:\n",
        "    pickle.dump(d_, f)"
      ]
    },
    {
      "cell_type": "markdown",
      "metadata": {
        "id": "VdMxNYWt-Pvp"
      },
      "source": [
        "# Training\n",
        "#### all data: d_\n",
        "#### strategy - long if prediction is positive, short when it's negative"
      ]
    },
    {
      "cell_type": "markdown",
      "metadata": {
        "id": "MxETIaXdhq95"
      },
      "source": [
        "##utils"
      ]
    },
    {
      "cell_type": "markdown",
      "metadata": {
        "id": "x1cVcL4FUQoL"
      },
      "source": [
        "##### read data"
      ]
    },
    {
      "cell_type": "code",
      "execution_count": null,
      "metadata": {
        "id": "b_oHhnH-CTmH"
      },
      "outputs": [],
      "source": [
        "import pickle\n",
        "try :\n",
        "  with open(\"/content/drive/MyDrive/Finance/Class/MLandFinance/Finals/data/data.pickle\", \"rb\") as f:\n",
        "    d_ = pickle.load(f)\n",
        "except:\n",
        "  with open(\"/content/drive/MyDrive/aaaaa/data/data.pickle\", \"rb\") as f:\n",
        "    d_ = pickle.load(f)"
      ]
    },
    {
      "cell_type": "code",
      "execution_count": null,
      "metadata": {
        "colab": {
          "base_uri": "https://localhost:8080/"
        },
        "id": "aWKpR1gEEVC5",
        "outputId": "801a4032-1061-4390-a864-82e6e39f58c9"
      },
      "outputs": [],
      "source": [
        "d_.columns"
      ]
    },
    {
      "cell_type": "markdown",
      "metadata": {
        "id": "jbvzFcXuhnkY"
      },
      "source": [
        "#####functions"
      ]
    },
    {
      "cell_type": "code",
      "execution_count": null,
      "metadata": {
        "id": "QZEBi9OwfExh"
      },
      "outputs": [],
      "source": [
        "def initialization(d_):\n",
        "  start = min(d_.reset_index()[\"年月日\"])\n",
        "  train_end = start + pd.DateOffset(days=365*20)\n",
        "  test_end = train_end + pd.DateOffset(weeks=1)\n",
        "  return start, train_end, test_end\n",
        "\n",
        "def split_data(d_, start, train_end, test_end):\n",
        "  temp_d = copy.copy(d_)\n",
        "  d_train = temp_d.reset_index()[(d_.reset_index()[\"年月日\"] >= start) & (d_.reset_index()[\"年月日\"] <= train_end)].set_index([\"證券代碼\", \"年月日\"])\n",
        "  d_test = temp_d.reset_index()[(d_.reset_index()[\"年月日\"] >= train_end) & (d_.reset_index()[\"年月日\"] <= test_end)].set_index([\"證券代碼\", \"年月日\"])\n",
        "  X_train = d_train.drop([\"報酬率％_週\", \"weight\"], axis = 1)\n",
        "  y_train = d_train[\"報酬率％_週\"]\n",
        "  weight = d_test[\"weight\"]\n",
        "  X_test = d_test.drop([\"報酬率％_週\", \"weight\"], axis = 1)\n",
        "  y_test = d_test[\"報酬率％_週\"]\n",
        "  return X_train, y_train, X_test, y_test, weight\n",
        "\n",
        "def update(start, train_end, test_end):\n",
        "  start = start + pd.DateOffset(weeks=1)\n",
        "  train_end = start + pd.DateOffset(days=365*20)\n",
        "  test_end = train_end + pd.DateOffset(weeks=1)\n",
        "  return start, train_end, test_end\n",
        "\n",
        "def evaluation(returns):\n",
        "  m = np.mean(returns)\n",
        "  v = np.std(returns)\n",
        "  s = m*math.sqrt(52)/v # ignore risk free rate\n",
        "  return m, v, s\n",
        "\n",
        "def long_short(first, last, y_hat):\n",
        "  l_s = pd.DataFrame()\n",
        "  conditions = [y_hat < first,y_hat > last]\n",
        "  choices = [-1, 1]\n",
        "  l_s['pred'] = np.select(conditions, choices, default=0)\n",
        "  return l_s\n",
        "\n",
        "def compute_ret(y_test, y_hat, pred, ret, weight, first_q=0.2, last_q=0.8):\n",
        "  date = y_test.reset_index()[\"年月日\"].unique()\n",
        "  for k in date:\n",
        "      date_hat = y_hat.reset_index()[y_hat.reset_index()[\"年月日\"] == k].set_index([\"證券代碼\", \"年月日\"])\n",
        "      date_y_test = y_test.reset_index()[y_test.reset_index()[\"年月日\"] == k].set_index([\"證券代碼\", \"年月日\"])\n",
        "      date_weight = weight.reset_index()[weight.reset_index()[\"年月日\"] == k].set_index([\"證券代碼\", \"年月日\"])\n",
        "      first = date_hat[\"pred\"].quantile(first_q)\n",
        "      last = date_hat[\"pred\"].quantile(last_q)\n",
        "      l_s = long_short(first, last, date_hat[\"pred\"])  # decide long short\n",
        "      true_hat = pd.concat([pd.DataFrame(date_y_test).rename(columns = {\"報酬率％_週\": \"true\"}),\n",
        "                            pd.DataFrame(l_s).rename(columns = {\"pred\": \"pred_ls\"}).set_index(date_hat.index),\n",
        "                            pd.DataFrame(date_weight),\n",
        "                            pd.DataFrame(date_hat)], axis = 1)\n",
        "      true_hat['weight'] = true_hat[\"weight\"]/sum(abs(true_hat[\"weight\"]*true_hat[\"pred_ls\"])) # weight with original data\n",
        "      returns = true_hat[\"true\"]*true_hat[\"pred_ls\"]*true_hat[\"weight\"] # compute returns with  different weight\n",
        "      ret = pd.concat([ret, returns.reset_index().groupby([\"年月日\"]).sum()], axis = 0) # actual ret\n",
        "      pred = pd.concat([pred, true_hat], axis = 0)\n",
        "  return pred, ret"
      ]
    },
    {
      "cell_type": "markdown",
      "metadata": {
        "id": "SkuQkn2pqhkj"
      },
      "source": [
        "##### data initialization: for tuning data"
      ]
    },
    {
      "cell_type": "code",
      "execution_count": null,
      "metadata": {
        "colab": {
          "base_uri": "https://localhost:8080/"
        },
        "id": "uBK9g0L78AGh",
        "outputId": "1d7718a2-034b-4b26-efab-e420df08eab0"
      },
      "outputs": [
        {
          "data": {
            "text/html": [
              "\n",
              "  <div id=\"df-3bbd530d-d4d4-4d68-8749-8b832801d868\">\n",
              "    <div class=\"colab-df-container\">\n",
              "      <div>\n",
              "<style scoped>\n",
              "    .dataframe tbody tr th:only-of-type {\n",
              "        vertical-align: middle;\n",
              "    }\n",
              "\n",
              "    .dataframe tbody tr th {\n",
              "        vertical-align: top;\n",
              "    }\n",
              "\n",
              "    .dataframe thead th {\n",
              "        text-align: right;\n",
              "    }\n",
              "</style>\n",
              "<table border=\"1\" class=\"dataframe\">\n",
              "  <thead>\n",
              "    <tr style=\"text-align: right;\">\n",
              "      <th></th>\n",
              "      <th></th>\n",
              "      <th></th>\n",
              "      <th>開盤價(元)_週</th>\n",
              "      <th>最高價(元)_週</th>\n",
              "      <th>最低價(元)_週</th>\n",
              "      <th>收盤價(元)_週</th>\n",
              "      <th>成交量(千股)_週</th>\n",
              "      <th>成交值(千元)_週</th>\n",
              "      <th>週轉率％_週</th>\n",
              "      <th>流通在外股數(千股)_x</th>\n",
              "      <th>市值(百萬元)</th>\n",
              "      <th>成交筆數(筆)</th>\n",
              "      <th>...</th>\n",
              "      <th>投信持股率%</th>\n",
              "      <th>自營持股率%</th>\n",
              "      <th>合計持股率%</th>\n",
              "      <th>外資週轉率%</th>\n",
              "      <th>投信週轉率%</th>\n",
              "      <th>自營商週轉率%</th>\n",
              "      <th>流通在外股數(千股)</th>\n",
              "      <th>市場別_OTC</th>\n",
              "      <th>市場別_TSE</th>\n",
              "      <th>報酬率％_週</th>\n",
              "    </tr>\n",
              "    <tr>\n",
              "      <th>證券代碼</th>\n",
              "      <th>年月日</th>\n",
              "      <th>weight</th>\n",
              "      <th></th>\n",
              "      <th></th>\n",
              "      <th></th>\n",
              "      <th></th>\n",
              "      <th></th>\n",
              "      <th></th>\n",
              "      <th></th>\n",
              "      <th></th>\n",
              "      <th></th>\n",
              "      <th></th>\n",
              "      <th></th>\n",
              "      <th></th>\n",
              "      <th></th>\n",
              "      <th></th>\n",
              "      <th></th>\n",
              "      <th></th>\n",
              "      <th></th>\n",
              "      <th></th>\n",
              "      <th></th>\n",
              "      <th></th>\n",
              "      <th></th>\n",
              "    </tr>\n",
              "  </thead>\n",
              "  <tbody>\n",
              "    <tr>\n",
              "      <th>2302 麗正</th>\n",
              "      <th>2001-01-05</th>\n",
              "      <th>1648.0</th>\n",
              "      <td>-0.429081</td>\n",
              "      <td>-0.422741</td>\n",
              "      <td>-0.432240</td>\n",
              "      <td>-0.422246</td>\n",
              "      <td>-0.748385</td>\n",
              "      <td>-0.803924</td>\n",
              "      <td>-0.821006</td>\n",
              "      <td>-0.543074</td>\n",
              "      <td>-0.482961</td>\n",
              "      <td>-0.801972</td>\n",
              "      <td>...</td>\n",
              "      <td>-0.871290</td>\n",
              "      <td>-0.622679</td>\n",
              "      <td>-1.250852</td>\n",
              "      <td>-0.769873</td>\n",
              "      <td>-0.994609</td>\n",
              "      <td>-0.873088</td>\n",
              "      <td>-0.542930</td>\n",
              "      <td>0</td>\n",
              "      <td>1</td>\n",
              "      <td>10.8742</td>\n",
              "    </tr>\n",
              "    <tr>\n",
              "      <th>2303 聯電</th>\n",
              "      <th>2001-01-05</th>\n",
              "      <th>596515.0</th>\n",
              "      <td>-0.416294</td>\n",
              "      <td>-0.425324</td>\n",
              "      <td>-0.420853</td>\n",
              "      <td>-0.426293</td>\n",
              "      <td>1.920934</td>\n",
              "      <td>1.929225</td>\n",
              "      <td>-0.898469</td>\n",
              "      <td>2.666500</td>\n",
              "      <td>1.783455</td>\n",
              "      <td>2.345861</td>\n",
              "      <td>...</td>\n",
              "      <td>-0.430166</td>\n",
              "      <td>-0.369318</td>\n",
              "      <td>1.115397</td>\n",
              "      <td>-0.020807</td>\n",
              "      <td>-0.800012</td>\n",
              "      <td>-0.732141</td>\n",
              "      <td>2.841532</td>\n",
              "      <td>0</td>\n",
              "      <td>1</td>\n",
              "      <td>16.6667</td>\n",
              "    </tr>\n",
              "    <tr>\n",
              "      <th>2329 華泰</th>\n",
              "      <th>2001-01-05</th>\n",
              "      <th>10428.0</th>\n",
              "      <td>-0.302407</td>\n",
              "      <td>-0.313335</td>\n",
              "      <td>-0.307478</td>\n",
              "      <td>-0.312858</td>\n",
              "      <td>-0.504490</td>\n",
              "      <td>-0.750285</td>\n",
              "      <td>-0.717304</td>\n",
              "      <td>-0.337748</td>\n",
              "      <td>-0.449510</td>\n",
              "      <td>-0.619626</td>\n",
              "      <td>...</td>\n",
              "      <td>-0.455271</td>\n",
              "      <td>-0.586485</td>\n",
              "      <td>-0.221673</td>\n",
              "      <td>-0.676240</td>\n",
              "      <td>-0.540548</td>\n",
              "      <td>-0.802614</td>\n",
              "      <td>-0.316998</td>\n",
              "      <td>0</td>\n",
              "      <td>1</td>\n",
              "      <td>15.2867</td>\n",
              "    </tr>\n",
              "    <tr>\n",
              "      <th>2330 台積電</th>\n",
              "      <th>2001-01-05</th>\n",
              "      <th>1057887.0</th>\n",
              "      <td>-0.409874</td>\n",
              "      <td>-0.417272</td>\n",
              "      <td>-0.412883</td>\n",
              "      <td>-0.416779</td>\n",
              "      <td>0.320532</td>\n",
              "      <td>1.120332</td>\n",
              "      <td>-1.207429</td>\n",
              "      <td>2.728978</td>\n",
              "      <td>3.541262</td>\n",
              "      <td>0.618386</td>\n",
              "      <td>...</td>\n",
              "      <td>-0.720662</td>\n",
              "      <td>-0.562355</td>\n",
              "      <td>2.927252</td>\n",
              "      <td>0.728258</td>\n",
              "      <td>-0.929743</td>\n",
              "      <td>-0.802614</td>\n",
              "      <td>2.557919</td>\n",
              "      <td>0</td>\n",
              "      <td>1</td>\n",
              "      <td>24.6914</td>\n",
              "    </tr>\n",
              "    <tr>\n",
              "      <th>2337 旺宏</th>\n",
              "      <th>2001-01-05</th>\n",
              "      <th>124958.0</th>\n",
              "      <td>-0.375687</td>\n",
              "      <td>-0.374388</td>\n",
              "      <td>-0.377097</td>\n",
              "      <td>-0.375150</td>\n",
              "      <td>2.390855</td>\n",
              "      <td>2.198501</td>\n",
              "      <td>1.418444</td>\n",
              "      <td>0.086948</td>\n",
              "      <td>-0.013156</td>\n",
              "      <td>2.226137</td>\n",
              "      <td>...</td>\n",
              "      <td>0.649333</td>\n",
              "      <td>-0.091827</td>\n",
              "      <td>-0.059575</td>\n",
              "      <td>1.009158</td>\n",
              "      <td>-0.021622</td>\n",
              "      <td>-0.027406</td>\n",
              "      <td>0.149743</td>\n",
              "      <td>0</td>\n",
              "      <td>1</td>\n",
              "      <td>29.0477</td>\n",
              "    </tr>\n",
              "  </tbody>\n",
              "</table>\n",
              "<p>5 rows × 86 columns</p>\n",
              "</div>\n",
              "      <button class=\"colab-df-convert\" onclick=\"convertToInteractive('df-3bbd530d-d4d4-4d68-8749-8b832801d868')\"\n",
              "              title=\"Convert this dataframe to an interactive table.\"\n",
              "              style=\"display:none;\">\n",
              "        \n",
              "  <svg xmlns=\"http://www.w3.org/2000/svg\" height=\"24px\"viewBox=\"0 0 24 24\"\n",
              "       width=\"24px\">\n",
              "    <path d=\"M0 0h24v24H0V0z\" fill=\"none\"/>\n",
              "    <path d=\"M18.56 5.44l.94 2.06.94-2.06 2.06-.94-2.06-.94-.94-2.06-.94 2.06-2.06.94zm-11 1L8.5 8.5l.94-2.06 2.06-.94-2.06-.94L8.5 2.5l-.94 2.06-2.06.94zm10 10l.94 2.06.94-2.06 2.06-.94-2.06-.94-.94-2.06-.94 2.06-2.06.94z\"/><path d=\"M17.41 7.96l-1.37-1.37c-.4-.4-.92-.59-1.43-.59-.52 0-1.04.2-1.43.59L10.3 9.45l-7.72 7.72c-.78.78-.78 2.05 0 2.83L4 21.41c.39.39.9.59 1.41.59.51 0 1.02-.2 1.41-.59l7.78-7.78 2.81-2.81c.8-.78.8-2.07 0-2.86zM5.41 20L4 18.59l7.72-7.72 1.47 1.35L5.41 20z\"/>\n",
              "  </svg>\n",
              "      </button>\n",
              "      \n",
              "  <style>\n",
              "    .colab-df-container {\n",
              "      display:flex;\n",
              "      flex-wrap:wrap;\n",
              "      gap: 12px;\n",
              "    }\n",
              "\n",
              "    .colab-df-convert {\n",
              "      background-color: #E8F0FE;\n",
              "      border: none;\n",
              "      border-radius: 50%;\n",
              "      cursor: pointer;\n",
              "      display: none;\n",
              "      fill: #1967D2;\n",
              "      height: 32px;\n",
              "      padding: 0 0 0 0;\n",
              "      width: 32px;\n",
              "    }\n",
              "\n",
              "    .colab-df-convert:hover {\n",
              "      background-color: #E2EBFA;\n",
              "      box-shadow: 0px 1px 2px rgba(60, 64, 67, 0.3), 0px 1px 3px 1px rgba(60, 64, 67, 0.15);\n",
              "      fill: #174EA6;\n",
              "    }\n",
              "\n",
              "    [theme=dark] .colab-df-convert {\n",
              "      background-color: #3B4455;\n",
              "      fill: #D2E3FC;\n",
              "    }\n",
              "\n",
              "    [theme=dark] .colab-df-convert:hover {\n",
              "      background-color: #434B5C;\n",
              "      box-shadow: 0px 1px 3px 1px rgba(0, 0, 0, 0.15);\n",
              "      filter: drop-shadow(0px 1px 2px rgba(0, 0, 0, 0.3));\n",
              "      fill: #FFFFFF;\n",
              "    }\n",
              "  </style>\n",
              "\n",
              "      <script>\n",
              "        const buttonEl =\n",
              "          document.querySelector('#df-3bbd530d-d4d4-4d68-8749-8b832801d868 button.colab-df-convert');\n",
              "        buttonEl.style.display =\n",
              "          google.colab.kernel.accessAllowed ? 'block' : 'none';\n",
              "\n",
              "        async function convertToInteractive(key) {\n",
              "          const element = document.querySelector('#df-3bbd530d-d4d4-4d68-8749-8b832801d868');\n",
              "          const dataTable =\n",
              "            await google.colab.kernel.invokeFunction('convertToInteractive',\n",
              "                                                     [key], {});\n",
              "          if (!dataTable) return;\n",
              "\n",
              "          const docLinkHtml = 'Like what you see? Visit the ' +\n",
              "            '<a target=\"_blank\" href=https://colab.research.google.com/notebooks/data_table.ipynb>data table notebook</a>'\n",
              "            + ' to learn more about interactive tables.';\n",
              "          element.innerHTML = '';\n",
              "          dataTable['output_type'] = 'display_data';\n",
              "          await google.colab.output.renderOutput(dataTable, element);\n",
              "          const docLink = document.createElement('div');\n",
              "          docLink.innerHTML = docLinkHtml;\n",
              "          element.appendChild(docLink);\n",
              "        }\n",
              "      </script>\n",
              "    </div>\n",
              "  </div>\n",
              "  "
            ],
            "text/plain": [
              "                               開盤價(元)_週  最高價(元)_週  最低價(元)_週  收盤價(元)_週  \\\n",
              "證券代碼     年月日        weight                                              \n",
              "2302 麗正  2001-01-05 1648.0    -0.429081 -0.422741 -0.432240 -0.422246   \n",
              "2303 聯電  2001-01-05 596515.0  -0.416294 -0.425324 -0.420853 -0.426293   \n",
              "2329 華泰  2001-01-05 10428.0   -0.302407 -0.313335 -0.307478 -0.312858   \n",
              "2330 台積電 2001-01-05 1057887.0 -0.409874 -0.417272 -0.412883 -0.416779   \n",
              "2337 旺宏  2001-01-05 124958.0  -0.375687 -0.374388 -0.377097 -0.375150   \n",
              "\n",
              "                               成交量(千股)_週  成交值(千元)_週    週轉率％_週  流通在外股數(千股)_x  \\\n",
              "證券代碼     年月日        weight                                                    \n",
              "2302 麗正  2001-01-05 1648.0     -0.748385  -0.803924 -0.821006     -0.543074   \n",
              "2303 聯電  2001-01-05 596515.0    1.920934   1.929225 -0.898469      2.666500   \n",
              "2329 華泰  2001-01-05 10428.0    -0.504490  -0.750285 -0.717304     -0.337748   \n",
              "2330 台積電 2001-01-05 1057887.0   0.320532   1.120332 -1.207429      2.728978   \n",
              "2337 旺宏  2001-01-05 124958.0    2.390855   2.198501  1.418444      0.086948   \n",
              "\n",
              "                                市值(百萬元)   成交筆數(筆)  ...    投信持股率%    自營持股率%  \\\n",
              "證券代碼     年月日        weight                         ...                       \n",
              "2302 麗正  2001-01-05 1648.0    -0.482961 -0.801972  ... -0.871290 -0.622679   \n",
              "2303 聯電  2001-01-05 596515.0   1.783455  2.345861  ... -0.430166 -0.369318   \n",
              "2329 華泰  2001-01-05 10428.0   -0.449510 -0.619626  ... -0.455271 -0.586485   \n",
              "2330 台積電 2001-01-05 1057887.0  3.541262  0.618386  ... -0.720662 -0.562355   \n",
              "2337 旺宏  2001-01-05 124958.0  -0.013156  2.226137  ...  0.649333 -0.091827   \n",
              "\n",
              "                                 合計持股率%    外資週轉率%    投信週轉率%   自營商週轉率%  \\\n",
              "證券代碼     年月日        weight                                              \n",
              "2302 麗正  2001-01-05 1648.0    -1.250852 -0.769873 -0.994609 -0.873088   \n",
              "2303 聯電  2001-01-05 596515.0   1.115397 -0.020807 -0.800012 -0.732141   \n",
              "2329 華泰  2001-01-05 10428.0   -0.221673 -0.676240 -0.540548 -0.802614   \n",
              "2330 台積電 2001-01-05 1057887.0  2.927252  0.728258 -0.929743 -0.802614   \n",
              "2337 旺宏  2001-01-05 124958.0  -0.059575  1.009158 -0.021622 -0.027406   \n",
              "\n",
              "                               流通在外股數(千股)  市場別_OTC  市場別_TSE   報酬率％_週  \n",
              "證券代碼     年月日        weight                                            \n",
              "2302 麗正  2001-01-05 1648.0      -0.542930        0        1  10.8742  \n",
              "2303 聯電  2001-01-05 596515.0     2.841532        0        1  16.6667  \n",
              "2329 華泰  2001-01-05 10428.0     -0.316998        0        1  15.2867  \n",
              "2330 台積電 2001-01-05 1057887.0    2.557919        0        1  24.6914  \n",
              "2337 旺宏  2001-01-05 124958.0     0.149743        0        1  29.0477  \n",
              "\n",
              "[5 rows x 86 columns]"
            ]
          },
          "execution_count": 6,
          "metadata": {},
          "output_type": "execute_result"
        }
      ],
      "source": [
        "d_.head()"
      ]
    },
    {
      "cell_type": "code",
      "execution_count": null,
      "metadata": {
        "colab": {
          "base_uri": "https://localhost:8080/"
        },
        "id": "qBLQF7dGqlX7",
        "outputId": "e1d20fa9-a802-4f9a-82d8-54bdd673e106"
      },
      "outputs": [
        {
          "name": "stdout",
          "output_type": "stream",
          "text": [
            "(50284, 85) (50284,) (74, 85) (74,)\n"
          ]
        }
      ],
      "source": [
        "# data eg\n",
        "start = min(d_.reset_index()[\"年月日\"])# + pd.DateOffset(weeks=1)\n",
        "train_end = start + pd.DateOffset(days=365*20)\n",
        "test_end = train_end + pd.DateOffset(weeks=1)\n",
        "d_train = d_.reset_index()[(d_.reset_index()[\"年月日\"] >= start) & (d_.reset_index()[\"年月日\"] <= train_end)].set_index([\"證券代碼\", \"年月日\"])\n",
        "d_test = d_.reset_index()[(d_.reset_index()[\"年月日\"] >= train_end) & (d_.reset_index()[\"年月日\"] <= test_end)].set_index([\"證券代碼\", \"年月日\"])\n",
        "X_train = d_train.drop([\"報酬率％_週\", \"weight\"], axis = 1)\n",
        "y_train = d_train[\"報酬率％_週\"]\n",
        "X_test = d_test.drop([\"報酬率％_週\", \"weight\"], axis = 1)\n",
        "y_test = d_test[\"報酬率％_週\"]\n",
        "print(X_train.shape, y_train.shape, X_test.shape, y_test.shape)"
      ]
    },
    {
      "cell_type": "markdown",
      "metadata": {
        "id": "P087UBAzQ8t6"
      },
      "source": [
        "##**Linear Model**"
      ]
    },
    {
      "cell_type": "markdown",
      "metadata": {
        "id": "0qDfbEB_l7TG"
      },
      "source": [
        "###OLS"
      ]
    },
    {
      "cell_type": "code",
      "execution_count": null,
      "metadata": {
        "id": "PITT6RMZhkxI"
      },
      "outputs": [],
      "source": [
        "# linear\n",
        "rolling_returns = [] # return for all prediction\n",
        "start, train_end, test_end = initialization(d_)\n",
        "linear_pred = pd.DataFrame()\n",
        "linear_ret = pd.DataFrame()\n",
        "i = 0\n",
        "while True:\n",
        "    # data\n",
        "    i+=1\n",
        "    print(\"-------------rolling {%i}----------------\"%i)\n",
        "\n",
        "    # data\n",
        "    X_train, y_train, X_test, y_test, weight = split_data(d_, start, train_end, test_end)\n",
        "    if X_test.shape[0] == 0:\n",
        "      start, train_end, test_end = update(start, train_end, test_end)# update data\n",
        "      continue\n",
        "\n",
        "    # model\n",
        "    linear_regression = linear_model.LinearRegression()\n",
        "    linear_regression.fit(X_train, y_train)\n",
        "    y_hat = list(linear_regression.predict(X_test))\n",
        "\n",
        "    # quantile sort and return\n",
        "    y_hat = pd.DataFrame(y_hat, columns = [\"pred\"]).set_index(y_test.index)\n",
        "    linear_pred, linear_ret = compute_ret(y_test, y_hat, linear_pred, linear_ret, weight)\n",
        "    print(linear_ret)\n",
        "\n",
        "    # =====================================================================\n",
        "    # store result\n",
        "    \"\"\"try:\n",
        "      with open(\"/content/drive/MyDrive/Finance/Class/MLandFinance/Finals/result/linear_ret.pickle\", \"wb\") as f:\n",
        "        pickle.dump(linear_ret, f)\n",
        "      with open(\"/content/drive/MyDrive/Finance/Class/MLandFinance/Finals/result/linear_pred.pickle\", \"wb\") as f:\n",
        "        pickle.dump(linear_pred, f)\n",
        "    except:\n",
        "      with open(\"/content/drive/MyDrive/aaaaa/result/linear_ret.pickle\", \"wb\") as f:\n",
        "        pickle.dump(linear_ret, f)\"\"\"\n",
        "    # =====================================================================\n",
        "    # update data\n",
        "    start, train_end, test_end = update(start, train_end, test_end)\n",
        "    if test_end > max(d_.reset_index()[\"年月日\"]):\n",
        "      break"
      ]
    },
    {
      "cell_type": "markdown",
      "metadata": {
        "id": "8Oco3lmpl-wf"
      },
      "source": [
        "### Elastic_Net"
      ]
    },
    {
      "cell_type": "markdown",
      "metadata": {
        "id": "KZ4DWbtB03EG"
      },
      "source": [
        "##### tuning hyperparameter"
      ]
    },
    {
      "cell_type": "code",
      "execution_count": null,
      "metadata": {
        "id": "inZXfO9JGjNk"
      },
      "outputs": [],
      "source": [
        "config_lm = {\n",
        "    \"alpha\" : [1e-5, 1e-4, 1e-3, 1e-2, 1e-1, 1],\n",
        "    \"l1_ratio\" : np.arange(0, 1.2, 0.2)\n",
        "}\n",
        "# tune: first rolling data\n",
        "start, train_end, test_end = initialization(d_)\n",
        "X_train, y_train, X_test, y_test, weight = split_data(d_, start, train_end, test_end)\n",
        "\n",
        "error = 1e10\n",
        "for alpha in config_lm[\"alpha\"]:\n",
        "  for l1_ratio in config_lm[\"l1_ratio\"]:\n",
        "    elastic_net = linear_model.ElasticNet(alpha=alpha, l1_ratio=l1_ratio, random_state = 321, max_iter = 500)\n",
        "    elastic_net.fit(X_train, y_train)\n",
        "    if mean_squared_error(y_test, elastic_net.predict(X_test)) < error:\n",
        "      error = mean_squared_error(y_test, elastic_net.predict(X_test))\n",
        "      best_alpha = alpha\n",
        "      best_l1_ratio = l1_ratio\n",
        "print(best_alpha, best_l1_ratio)\n",
        "# ===================================\n",
        "# result\n",
        "\"\"\"\n",
        "best_alpha = 0.01\n",
        "best_l1_ratio = 0.4\n",
        "\"\"\""
      ]
    },
    {
      "cell_type": "markdown",
      "metadata": {
        "id": "r1kXqjah1PxU"
      },
      "source": [
        "##### training"
      ]
    },
    {
      "cell_type": "code",
      "execution_count": null,
      "metadata": {
        "id": "AVSBf7Uhwidm"
      },
      "outputs": [],
      "source": [
        "start, train_end, test_end = initialization(d_)\n",
        "regela_pred = pd.DataFrame()\n",
        "regela_ret = pd.DataFrame()\n",
        "i = 0\n",
        "best_alpha = 0.01\n",
        "best_l1_ratio = 0.4\n",
        "while True:\n",
        "      # data\n",
        "    i+=1\n",
        "    print(\"-------------rolling {%i}----------------\"%i)\n",
        "    X_train, y_train, X_test, y_test, weight = split_data(d_, start, train_end, test_end)\n",
        "    if X_test.shape[0] == 0:\n",
        "      # update data\n",
        "      start, train_end, test_end = update(start, train_end, test_end)\n",
        "      continue\n",
        "\n",
        "    # model\n",
        "    elastic_net = linear_model.ElasticNet(alpha=best_alpha, l1_ratio=best_l1_ratio, random_state = 321, max_iter = 500)\n",
        "    elastic_net.fit(X_train, y_train)\n",
        "    #print(\"mse: %f\" % mean_squared_error(y_test, elastic_net.predict(X_test)))\n",
        "    y_hat = list(elastic_net.predict(X_test))\n",
        "    # quantile sort and return\n",
        "    y_hat = pd.DataFrame(y_hat, columns = [\"pred\"]).set_index(y_test.index)\n",
        "    regela_pred, regela_ret = compute_ret(y_test, y_hat, regela_pred, regela_ret, weight)\n",
        "    print(regela_ret)\n",
        "    # ===============================================================\n",
        "    # result\n",
        "    \"\"\"try:\n",
        "        with open(\"/content/drive/MyDrive/Finance/Class/MLandFinance/Finals/result/regela_ret.pickle\", \"wb\") as f:\n",
        "            pickle.dump(regela_ret, f)\n",
        "        with open(\"/content/drive/MyDrive/Finance/Class/MLandFinance/Finals/result/regela_pred.pickle\", \"wb\") as f:\n",
        "            pickle.dump(regela_pred, f)\n",
        "    except:\n",
        "        with open(\"/content/drive/MyDrive/aaaaa/result/regela_ret.pickle\", \"wb\") as f:\n",
        "            pickle.dump(regela_ret, f)\"\"\"\n",
        "    # ==============================================================\n",
        "    # update data\n",
        "    start, train_end, test_end = update(start, train_end, test_end)\n",
        "    if test_end > max(d_.reset_index()[\"年月日\"]):\n",
        "      break\n"
      ]
    },
    {
      "cell_type": "markdown",
      "metadata": {
        "id": "8HBo9AhQRAvT"
      },
      "source": [
        "##**Non Linear Model**"
      ]
    },
    {
      "cell_type": "markdown",
      "metadata": {
        "id": "jPeeLtK2vZAo"
      },
      "source": [
        "###XGBoost"
      ]
    },
    {
      "cell_type": "markdown",
      "metadata": {
        "id": "6r9n3AZclXxs"
      },
      "source": [
        "###### select hyperparameter"
      ]
    },
    {
      "cell_type": "code",
      "execution_count": null,
      "metadata": {
        "id": "c1iHM5qZOVTg"
      },
      "outputs": [],
      "source": [
        "# tuning\n",
        "config_trees = {\n",
        "    \"n_estimators\" : list(range(1, 51, 10)),\n",
        "    \"max_depth\" : list(range(10, 51, 10)),\n",
        "    \"learning_rate\" : [0.1, 0.01, 0.001],\n",
        "    \"gamma\" : [i/10.0 for i in range(0,5)],\n",
        "    \"reg_alpha\" : [0, 0.001, 0.005, 0.01, 0.05],\n",
        "}\n",
        "\n",
        "# model\n",
        "if torch.cuda.is_available():\n",
        "    import cudf\n",
        "    model = xgb.XGBRegressor(tree_method=\"gpu_hist\")\n",
        "    X_train_cuda, y_train_cuda, X_test_cuda, y_test_cuda = (cudf.from_pandas(X_train), cudf.from_pandas(y_train),\n",
        "                                        cudf.from_pandas(X_test), cudf.from_pandas(y_test))\n",
        "    sh = HalvingGridSearchCV(model, config_trees, cv=2, return_train_score = True,\n",
        "                            factor=2, random_state = 321, verbose = 2).fit(X_train_cuda, y_train_cuda)\n",
        "else:\n",
        "    model = xgb.XGBRegressor()\n",
        "    sh = HalvingGridSearchCV(model, config_trees, cv=2, return_train_score = True,\n",
        "                            factor=2, random_state = 321, verbose = 2).fit(X_train, y_train)\n",
        "\n",
        "xgb_best_params = {'gamma': 0.0,\n",
        " 'learning_rate': 0.001,\n",
        " 'max_depth': 50,\n",
        " 'n_estimators': 31,\n",
        " 'reg_alpha': 0,}\n",
        " # 'tree_method': 'gpu_hist'}\n"
      ]
    },
    {
      "cell_type": "markdown",
      "metadata": {
        "id": "5tLXw4NQllH_"
      },
      "source": [
        "#####training"
      ]
    },
    {
      "cell_type": "code",
      "execution_count": null,
      "metadata": {
        "id": "RzJwSGytdgcK"
      },
      "outputs": [],
      "source": [
        "if torch.cuda.is_available():\n",
        "    from cuml.metrics import mean_squared_error as mse\n",
        "    import cudf\n",
        "start, train_end, test_end = initialization(d_)\n",
        "xgb_pred = pd.DataFrame()\n",
        "xgb_ret = pd.DataFrame()\n",
        "i = 0\n",
        "xgb_best_params = {'gamma': 0.0,\n",
        "  'learning_rate': 0.001,\n",
        "  'max_depth': 50,\n",
        "  'n_estimators': 31,\n",
        "  'reg_alpha': 0,}\n",
        "  # 'tree_method': 'gpu_hist'}\n",
        "\n",
        "# ===============================================================================\n",
        "# if trained some but haven't finish:\n",
        "\"\"\"with open(\"/content/drive/MyDrive/result/xgb_ret_returns.pickle\", \"rb\") as f:  # in result, xgb_ret_tune\n",
        "      xgb_ret = pickle.load(f)\n",
        "with open(\"/content/drive/MyDrive/result/xgb_pred_returns.pickle\", \"rb\") as f:\n",
        "      xgb_pred = pickle.load(f)\n",
        "test_end = max(xgb_ret.reset_index()[\"年月日\"]) + pd.DateOffset(weeks=1)\n",
        "train_end = test_end - pd.DateOffset(weeks=1)\n",
        "start =  train_end - pd.DateOffset(days=365*20)# last time last start\"\"\"\n",
        "# ===============================================================================\n",
        "\n",
        "while True:\n",
        "    # data\n",
        "    i+=1\n",
        "    print(\"-------------rolling {%i}----------------\"%i)\n",
        "    X_train, y_train, X_test, y_test, weight = split_data(d_, start, train_end, test_end)\n",
        "    if X_test.shape[0] == 0:\n",
        "      start, train_end, test_end = update(start, train_end, test_end) # update data\n",
        "      continue\n",
        "\n",
        "    # ========================================================================\n",
        "    # tune for each data run this\n",
        "    \"\"\"config_trees = {\n",
        "        \"n_estimators\" : list(range(1, 51, 10)),\n",
        "        \"max_depth\" : list(range(10, 51, 10)),\n",
        "        \"learning_rate\" : [0.1, 0.01, 0.001],\n",
        "        \"gamma\" : [i/10.0 for i in range(0,5)],\n",
        "        \"reg_alpha\" : [0, 0.001, 0.005, 0.01, 0.05],\n",
        "    }\n",
        "    if torch.cuda.is_available():\n",
        "        import cudf\n",
        "        model = xgb.XGBRegressor(tree_method=\"gpu_hist\")\n",
        "        X_train_cuda, y_train_cuda, X_test_cuda, y_test_cuda = (cudf.from_pandas(X_train), cudf.from_pandas(y_train),\n",
        "                                            cudf.from_pandas(X_test), cudf.from_pandas(y_test))\n",
        "        sh = HalvingGridSearchCV(model, config_trees, cv=2, return_train_score = True,\n",
        "                            factor=2, random_state = 321, verbose = 2).fit(X_train_cuda, y_train_cuda)\n",
        "    else:\n",
        "        model = xgb.XGBRegressor()\n",
        "        sh = HalvingGridSearchCV(model, config_trees, cv=2, return_train_score = True,\n",
        "                            factor=2, random_state = 321, verbose = 2).fit(X_train, y_train)\n",
        "    xgb_best_params = sh.best_params_\n",
        "    print(xgb_best_params)\"\"\"\n",
        "    # =======================================================================\n",
        "\n",
        "    # =======================================================================\n",
        "    # train\n",
        "    if torch.cuda.is_available():\n",
        "        X_train, y_train, X_test, y_test_cuda = (cudf.from_pandas(X_train), cudf.from_pandas(y_train),\n",
        "                                          cudf.from_pandas(X_test), cudf.from_pandas(y_test))\n",
        "        model = xgb.XGBRegressor(tree_method=\"gpu_hist\", **xgb_best_params)\n",
        "        model.fit(X_train, y_train)\n",
        "        y_hat = model.predict(X_test)\n",
        "        y_hat = pd.DataFrame(y_hat, columns = [\"pred\"]).set_index(y_test.index)\n",
        "    else:\n",
        "        model = xgb.XGBRegressor(**xgb_best_params)\n",
        "        model.fit(X_train, y_train)\n",
        "        y_hat = model.predict(X_test)\n",
        "        y_hat = pd.DataFrame(y_hat, columns = [\"pred\"]).set_index(y_test.index)\n",
        "\n",
        "    # =======================================================================\n",
        "    # quantile sort and return\n",
        "    xgb_pred, xgb_ret = compute_ret(y_test, y_hat, xgb_pred, xgb_ret, weight)\n",
        "    print(xgb_ret)\n",
        "\n",
        "    # =======================================================================\n",
        "    # update data\n",
        "    start, train_end, test_end = update(start, train_end, test_end)\n",
        "\n",
        "    # =======================================================================\n",
        "    # store data\n",
        "    \"\"\"try:\n",
        "        with open(\"/content/drive/MyDrive/Finance/Class/MLandFinance/Finals/result/xgb_ret.pickle\", \"wb\") as f:\n",
        "            pickle.dump(xgb_ret, f)\n",
        "        with open(\"/content/drive/MyDrive/Finance/Class/MLandFinance/Finals/result/xgb_pred.pickle\", \"wb\") as f:\n",
        "            pickle.dump(xgb_pred, f)\n",
        "    except:\n",
        "        with open(\"/content/drive/MyDrive/aaaaa/result/xgb_ret.pickle\", \"wb\") as f:\n",
        "            pickle.dump(regela_ret, f)\n",
        "        with open(\"/content/drive/MyDrive/aaaaa/result/xgb_pred.pickle\", \"wb\") as f:\n",
        "            pickle.dump(regela_ret, f)\"\"\"\n",
        "\n",
        "    if test_end > max(d_.reset_index()[\"年月日\"]):\n",
        "      break\n"
      ]
    },
    {
      "cell_type": "markdown",
      "metadata": {
        "id": "_z_7j8jqvePv"
      },
      "source": [
        "### Random Forest"
      ]
    },
    {
      "cell_type": "markdown",
      "metadata": {
        "id": "F9uYuqwXl8Dr"
      },
      "source": [
        "#####selecting hyperparameter"
      ]
    },
    {
      "cell_type": "code",
      "execution_count": null,
      "metadata": {
        "id": "72izBGLnSEp1"
      },
      "outputs": [],
      "source": [
        "start, train_end, test_end = initialization(d_)\n",
        "X_train, y_train, X_test, y_test, weight = split_data(d_, start, train_end, test_end)\n",
        "\n",
        "# tuning\n",
        "config_trees_cuda = {\n",
        "      \"n_estimators\" : list(range(1, 51, 10)),\n",
        "      \"max_depth\" : list(range(5, 11, 5)),\n",
        "      \"max_leaves\" : list(range(10, 51, 10)),\n",
        "      \"bootstrap\" : [True, False],\n",
        "      # \"split_criterion\" : [0, 1, 2, 3, 4, 6]\n",
        "  }\n",
        "config_trees_ensemble = {\n",
        "      \"n_estimators\" : list(range(1, 50, 10)),\n",
        "      \"max_depth\" : list(range(5, 11, 5)),\n",
        "      \"max_leaf_nodes\" : list(range(10, 51, 10)),\n",
        "      \"bootstrap\" : [True, False],\n",
        "      \"criterion\" : [\"absolute_error\"]\n",
        "      # \"min_child_weight\" : range(1,6,2),\n",
        "      # \"subsample\" : [i/10.0 for i in range(6,11)],\n",
        "      # \"colsample_bytree\" : [i/10.0 for i in range(6,11)],\n",
        "      # 'min_impurity_decrease'\n",
        "  }\n",
        "\n",
        "try:\n",
        "    model = cuml.ensemble.RandomForestRegressor()\n",
        "    X_train, y_train, X_test, y_test = (cudf.from_pandas(X_train), cudf.from_pandas(y_train), cudf.from_pandas(X_test), cudf.from_pandas(y_test))\n",
        "    sh_rfr = HalvingGridSearchCV(model, config_trees_cuda, cv=2, return_train_score = True, factor=2, verbose = 2).fit(X_train, y_train)\n",
        "    print(\"used gpu\")\n",
        "except:\n",
        "    model = RandomForestRegressor()\n",
        "    print(\"used cpu\")\n",
        "    sh_rfr = HalvingGridSearchCV(model, config_trees_ensemble, cv=2, return_train_score = True,\n",
        "                                factor=2, verbose = 2).fit(X_train, y_train)\n",
        "\n",
        "sh_rfr.best_params_"
      ]
    },
    {
      "cell_type": "markdown",
      "metadata": {
        "id": "cunoqtMQmDQ0"
      },
      "source": [
        "#####training"
      ]
    },
    {
      "cell_type": "code",
      "execution_count": null,
      "metadata": {
        "id": "nN4cpr9juyQP"
      },
      "outputs": [],
      "source": [
        "# tune in train\n",
        "start, train_end, test_end = initialization(d_)\n",
        "rfr_pred = pd.DataFrame()\n",
        "rfr_ret = pd.DataFrame()\n",
        "i=0\n",
        "\n",
        "rfr_best_params_cuda = {'bootstrap': True, 'max_depth': 5, 'max_leaves': 30, 'n_estimators': 41}\n",
        "rfr_best_params_ensemble = {'bootstrap': True, 'max_depth': 5, 'max_leaf_nodes': 30, 'n_estimators': 41}\n",
        "\n",
        "while True:\n",
        "    # data\n",
        "    i+=1\n",
        "    print(\"-------------rolling {%i}----------------\"%i)\n",
        "    X_train, y_train, X_test, y_test, weight = split_data(d_, start, train_end, test_end)\n",
        "    if X_test.shape[0] == 0:\n",
        "        start, train_end, test_end = update(start, train_end, test_end) # update data\n",
        "        continue\n",
        "    # ============================================================\n",
        "    # tune for each data:\n",
        "    \"\"\"try:\n",
        "        model = cuml.ensemble.RandomForestRegressor()\n",
        "        X_train_cuda, y_train_cuda, X_test_cuda, y_test_cuda = (cudf.from_pandas(X_train),\n",
        "                                                                cudf.from_pandas(y_train),\n",
        "                                                                cudf.from_pandas(X_test),\n",
        "                                                                cudf.from_pandas(y_test))\n",
        "        sh_rfr = HalvingGridSearchCV(model, config_trees_cuda, cv=2, return_train_score = True,\n",
        "                                    factor=2, verbose = 2).fit(X_train_cuda, y_train_cuda)\n",
        "        rfr_best_params_cuda = sh_rfr.best_params_\n",
        "        print(\"used gpu\")\n",
        "    except:\n",
        "        model = RandomForestRegressor()\n",
        "        print(\"used rfr\")\n",
        "        sh_rfr = HalvingGridSearchCV(model, config_trees_ensemble, cv=2, return_train_score = True, factor=2).fit(X_train, y_train)\n",
        "        rfr_best_params_ensemble = sh_rfr.best_params_\"\"\"\n",
        "    # ===========================================================\n",
        "\n",
        "    # ===========================================================\n",
        "    # model\n",
        "    try:\n",
        "        rfr = cuml.ensemble.RandomForestRegressor(random_state = 321, **rfr_best_params_cuda)\n",
        "        rfr.fit(np.array(X_train), np.array(y_train))\n",
        "        y_hat = pd.DataFrame(rfr.predict(np.array(X_test)), columns = [\"pred\"]).set_index(y_test.index)\n",
        "    except:\n",
        "        rfr = RandomForestRegressor(random_state = 321, **rfr_best_params_ensemble)\n",
        "        rfr.fit(X_train, y_train)\n",
        "        y_hat = pd.DataFrame(rfr.predict(X_test), columns = [\"pred\"]).set_index(y_test.index)\n",
        "\n",
        "    rfr_pred, rfr_ret = compute_ret(y_test, y_hat, rfr_pred, rfr_ret, weight)\n",
        "    print(rfr_ret)\n",
        "\n",
        "    # ===========================================================\n",
        "    # update data\n",
        "    start, train_end, test_end = update(start, train_end, test_end)\n",
        "\n",
        "    # ===========================================================\n",
        "    # store\n",
        "    \"\"\"\n",
        "    try:\n",
        "        with open(\"/content/drive/MyDrive/Finance/Class/MLandFinance/Finals/result/rfr_ret.pickle\", \"wb\") as f:\n",
        "            pickle.dump(rfr_ret, f)\n",
        "        with open(\"/content/drive/MyDrive/Finance/Class/MLandFinance/Finals/result/rfr_pred.pickle\", \"wb\") as f:\n",
        "            pickle.dump(rfr_pred, f)\n",
        "    except:\n",
        "        with open(\"/content/drive/MyDrive/aaaaa/result/rfr_ret.pickle\", \"wb\") as f:\n",
        "            pickle.dump(rfr_ret, f)\n",
        "        with open(\"/content/drive/MyDrive/aaaaa/result/xgb_pred.pickle\", \"wb\") as f:\n",
        "            pickle.dump(rfr_pred, f)\"\"\"\n",
        "\n",
        "    if test_end > max(d_.reset_index()[\"年月日\"]):\n",
        "      break\n"
      ]
    },
    {
      "cell_type": "markdown",
      "metadata": {
        "id": "2JD79l5sRHkZ"
      },
      "source": [
        "### Neural Network\n",
        "- The code here is the second version.\n",
        "- first version in Others section later\n"
      ]
    },
    {
      "cell_type": "code",
      "execution_count": null,
      "metadata": {
        "id": "987mfc2WSsNQ"
      },
      "outputs": [],
      "source": [
        "!pip install optuna"
      ]
    },
    {
      "cell_type": "code",
      "execution_count": null,
      "metadata": {
        "id": "jPzS-cl7A8nJ"
      },
      "outputs": [],
      "source": [
        "import os\n",
        "import optuna\n",
        "from optuna.trial import TrialState\n",
        "import torch\n",
        "import torch.nn as nn\n",
        "import torch.nn.functional as F\n",
        "import torch.optim as optim\n",
        "import torch.utils.data\n",
        "from torchvision import datasets\n",
        "from torchvision import transforms\n",
        "from sklearn.model_selection import train_test_split\n",
        "from torch.utils.data import Dataset, DataLoader\n",
        "\n",
        "device = torch.device(\"cuda\" if torch.cuda.is_available() else \"cpu\")\n",
        "batch = 256\n",
        "dir = os.getcwd()\n",
        "n_train_examples = batch * 30\n",
        "n_val_examples = batch * 10\n",
        "\n",
        "# ======================================================================\n",
        "# functions for tune\n",
        "class Data(Dataset):\n",
        "    def __init__(self, X, y):\n",
        "        self.X = X\n",
        "        self.y = y\n",
        "\n",
        "    def __len__(self):\n",
        "        return len(self.X)\n",
        "\n",
        "    def __getitem__(self, idx):\n",
        "        return (self.X[idx], self.y[idx])\n",
        "\n",
        "class Net_tune(nn.Module):\n",
        "    def __init__(self, trial, input_size = 85):\n",
        "        super(Net_tune, self).__init__()\n",
        "        self.num_layers = trial.suggest_int(\"n_layers\", 1, 10)\n",
        "        self.hidden_layers = nn.ModuleList()\n",
        "        self.activation = trial.suggest_categorical(\"active\", [True, False])\n",
        "        self.norm = nn.BatchNorm1d(1)\n",
        "        for i in range(self.num_layers):\n",
        "            output_size = trial.suggest_int(\"hidden_nodes{}\".format(i), 4, 512)\n",
        "            self.hidden_layers.append(nn.Linear(input_size, output_size).to(device))\n",
        "            if self.activation == True:\n",
        "              self.hidden_layers.append(nn.ReLU().to(device))\n",
        "            self.hidden_layers.append(nn.BatchNorm1d(output_size).to(device))\n",
        "            input_size = output_size\n",
        "\n",
        "        self.output_layer = nn.Linear(output_size, 1).to(device)\n",
        "\n",
        "    def forward(self, x):\n",
        "        for layer in self.hidden_layers:\n",
        "            x = layer(x)\n",
        "        output = self.output_layer(x)\n",
        "        # output = self.norm(output)\n",
        "        return output\n",
        "\n",
        "\n",
        "def get_mnist():\n",
        "    with open(\"temp_X\", \"rb\") as f:\n",
        "        X_train = pickle.load(f)\n",
        "    with open(\"temp_y\", \"rb\") as f:\n",
        "        y_train = pickle.load(f)\n",
        "    data = train_test_split(X_train, y_train, test_size=0.2, random_state=42)\n",
        "    X_train, X_val, y_train, y_val = data[0], data[1], data[2], data[3]\n",
        "    dataset = Data(X_train,y_train)\n",
        "    train_loader = DataLoader(dataset, batch_size=256, shuffle=False, drop_last=True)\n",
        "    val_dataset = Data(X_val,y_val)\n",
        "    val_loader = DataLoader(val_dataset, batch_size=len(X_val), shuffle=False)\n",
        "\n",
        "    return train_loader, X_val, y_val\n",
        "\n",
        "\n",
        "def objective(trial: optuna.trial.Trial):\n",
        "    # Generate the model.\n",
        "    model = Net_tune(trial).to(device)\n",
        "\n",
        "    # Generate the optimizers.\n",
        "    optimizer_name = trial.suggest_categorical(\"optimizer\", [\"Adam\", \"RMSprop\", \"SGD\"])\n",
        "    lr = trial.suggest_float(\"lr\", 1e-5, 1e-1, log=True)\n",
        "    optimizer = getattr(optim, optimizer_name)(model.parameters(), lr=lr)\n",
        "\n",
        "    # X_train, X_val, y_train, y_val\n",
        "    train_loader, X_val, y_val = get_mnist()\n",
        "\n",
        "    # Training of the model.\n",
        "    epochs = trial.suggest_int(\"epochs\".format(i), 150, 300)\n",
        "    loss_old = 10000000000\n",
        "    for epoch in range(epochs):\n",
        "        model.train()\n",
        "        loss_all = 0\n",
        "        for batch_idx, (X, y) in enumerate(train_loader):\n",
        "            if batch_idx * batch >= n_train_examples:\n",
        "                break\n",
        "            pred = model(torch.tensor(X, dtype = torch.float32))\n",
        "\n",
        "            loss = F.mse_loss(pred, torch.tensor(y, dtype = torch.float32))\n",
        "            loss += trial.suggest_float(\"reg_coef\", 1e-5, 1e-1, log=True) \\\n",
        "              * torch.mean(torch.cat([param.view(-1)**2 for param in model.parameters()]))\n",
        "            loss.backward()\n",
        "            sche = trial.suggest_categorical(\"scheduler\", [\"None\"])\n",
        "            if sche == \"cosine\":\n",
        "                scheduler = torch.optim.lr_scheduler.CosineAnnealingLR(optimizer, T_max=150, eta_min=0, last_epoch=- 1, verbose=False)\n",
        "                scheduler.step()\n",
        "\n",
        "            if sche == \"None\":\n",
        "                optimizer.step()\n",
        "\n",
        "            optimizer.zero_grad()\n",
        "            loss_all += loss\n",
        "        if loss_all > loss_old:\n",
        "          try:\n",
        "            model.load_state_dict(torch.load('model.pth'))\n",
        "            optimizer.param_groups[0]['lr'] = optimizer.param_groups[0]['lr'] * 0.8\n",
        "          except:\n",
        "            torch.save(model.state_dict(), 'model.pth')\n",
        "            loss_old = loss_all\n",
        "            optimizer.param_groups[0]['lr'] = optimizer.param_groups[0]['lr'] * 0.8\n",
        "            print(\"load model failed\")\n",
        "          if optimizer.param_groups[0]['lr'] < 1e-5:\n",
        "              break\n",
        "        else:\n",
        "            torch.save(model.state_dict(), 'model.pth')\n",
        "            loss_old = loss_all\n",
        "        print(f\"epoch {epoch} | {loss_all}\")\n",
        "    # eval\n",
        "    model.eval()\n",
        "    loss = 0\n",
        "    with torch.no_grad():\n",
        "        pred = model(X_val)\n",
        "        if pred[0] == pred[1] or pred[1] == pred[2]:\n",
        "          print(\"bad model\")\n",
        "          loss = 1000000000\n",
        "        loss += F.mse_loss(pred, y_val)\n",
        "\n",
        "    loss_mean = -loss / (batch_idx+1)\n",
        "\n",
        "    trial.report(loss_mean, epoch)\n",
        "    if trial.should_prune():\n",
        "        raise optuna.exceptions.TrialPruned()\n",
        "\n",
        "    return loss_mean\n",
        "\n",
        "def tune(X_train, y_train, n_try = 1):\n",
        "    with open(\"temp_X\", \"wb\") as f:\n",
        "        pickle.dump(X_train, f)\n",
        "    with open(\"temp_y\", \"wb\") as f:\n",
        "        pickle.dump(y_train, f)\n",
        "    if __name__ == \"__main__\":\n",
        "        study = optuna.create_study(direction=\"maximize\")\n",
        "        study.optimize(objective, n_trials=n_try, timeout=600)\n",
        "\n",
        "        pruned_trials = study.get_trials(deepcopy=False, states=[TrialState.PRUNED])\n",
        "        complete_trials = study.get_trials(deepcopy=False, states=[TrialState.COMPLETE])\n",
        "\n",
        "        trial = study.best_trial\n",
        "    return trial\n",
        "# ======================================================================\n"
      ]
    },
    {
      "cell_type": "code",
      "execution_count": null,
      "metadata": {
        "id": "W383rMqLBNZ5"
      },
      "outputs": [],
      "source": [
        "# ======================================================================\n",
        "# functions for train\n",
        "class Net(nn.Module):\n",
        "    def __init__(self, config, layers, input_size = 85):\n",
        "        super(Net, self).__init__()\n",
        "        self.num_layers = layers\n",
        "        self.norm = nn.BatchNorm1d(1)\n",
        "        self.hidden_layers = nn.ModuleList()\n",
        "        for i in range(self.num_layers):\n",
        "            output_size = config[f\"hidden_nodes{i}\"]\n",
        "            self.hidden_layers.append(nn.Linear(input_size, output_size).to(device))\n",
        "            if config[\"active\"] == True:\n",
        "              self.hidden_layers.append(nn.ReLU().to(device))\n",
        "            self.hidden_layers.append(nn.BatchNorm1d(output_size).to(device))\n",
        "            input_size = output_size\n",
        "\n",
        "        self.output_layer = nn.Linear(output_size, 1)\n",
        "\n",
        "    def forward(self, x):\n",
        "        for layer in self.hidden_layers:\n",
        "            x = layer(x).to(device)\n",
        "        output = self.output_layer(x).to(device)\n",
        "        # output = self.norm(output)\n",
        "        return output\n",
        "\n",
        "def train(config, data):\n",
        "    device = torch.device(\"cuda\" if torch.cuda.is_available() else \"cpu\")\n",
        "    X_train, y_train, X_test, y_test = data[0], data[1], data[2], data[3]\n",
        "    dataset = Data(X_train, y_train)\n",
        "    train_loader = DataLoader(dataset, batch_size=256, shuffle=False, drop_last=True)\n",
        "    model = Net(config, layers = config[\"n_layers\"], input_size = 85).to(device)\n",
        "    optimizer = torch.optim.Adam(model.parameters(), lr=config[\"lr\"])\n",
        "\n",
        "    loss_f = nn.MSELoss()\n",
        "    loss_old = 10000000\n",
        "    loss_all = 0\n",
        "    for s in range(config[\"epochs\"]):# config[\"epochs\"]\n",
        "        loss_all = 0\n",
        "        for i, (X, y) in enumerate(train_loader):\n",
        "            output = torch.squeeze(model(X.to(device)))\n",
        "            loss = loss_f(output, y.to(device))\n",
        "            loss += config[\"reg_coef\"] \\\n",
        "                * torch.mean(torch.cat([param.view(-1)**2 for param in model.parameters()]))\n",
        "            loss.backward()\n",
        "\n",
        "            if config[\"scheduler\"] == \"cosine\":\n",
        "                scheduler = torch.optim.lr_scheduler.CosineAnnealingLR(optimizer, T_max=150, eta_min=0, last_epoch=- 1, verbose=False)\n",
        "                scheduler.step()\n",
        "\n",
        "            if config[\"scheduler\"] == \"None\":\n",
        "                optimizer.step()\n",
        "\n",
        "            optimizer.zero_grad()\n",
        "            loss_all += loss\n",
        "        if loss_all >= loss_old:\n",
        "          try:\n",
        "            print(\" >_< Not training in this epcoh\")\n",
        "            model.load_state_dict(torch.load('model.pth'))\n",
        "            optimizer.param_groups[0]['lr'] = optimizer.param_groups[0]['lr'] * 0.8\n",
        "          except:\n",
        "            torch.save(model.state_dict(), 'model.pth')\n",
        "            loss_old = loss_all\n",
        "            optimizer.param_groups[0]['lr'] = optimizer.param_groups[0]['lr'] * 0.8\n",
        "            print(\" >_< load model failed\")\n",
        "            print(f\"epoch:{s} | training loss = {loss_all/i+1}\")\n",
        "          if optimizer.param_groups[0]['lr'] < 1e-5:\n",
        "              print(\"lr too small\")\n",
        "              break\n",
        "        else:\n",
        "            torch.save(model.state_dict(), 'model.pth')\n",
        "            loss_old = loss_all\n",
        "            print(f\"epoch:{s} | training loss = {loss_all/i+1}\")\n",
        "\n",
        "        print(f\"training output: {output[:16]}\")\n",
        "\n",
        "    with torch.no_grad():\n",
        "        output = torch.squeeze(model(X_test.to(device)))\n",
        "        test_loss = loss_f(output, y_test.to(device))\n",
        "    return output\n",
        "# ======================================================================"
      ]
    },
    {
      "cell_type": "code",
      "execution_count": 2,
      "metadata": {},
      "outputs": [
        {
          "data": {
            "text/plain": [
              "[{'n_layers': 2,\n",
              "  'active': False,\n",
              "  'hidden_nodes0': 271,\n",
              "  'hidden_nodes1': 292,\n",
              "  'optimizer': 'RMSprop',\n",
              "  'lr': 0.003564719859266477,\n",
              "  'epochs': 259,\n",
              "  'reg_coef': 2.560774300341271e-05,\n",
              "  'scheduler': 'None'},\n",
              " {'n_layers': 3,\n",
              "  'active': False,\n",
              "  'hidden_nodes0': 389,\n",
              "  'hidden_nodes1': 414,\n",
              "  'hidden_nodes2': 37,\n",
              "  'optimizer': 'RMSprop',\n",
              "  'lr': 9.103946157322641e-05,\n",
              "  'epochs': 256,\n",
              "  'reg_coef': 0.0066959639511125525,\n",
              "  'scheduler': 'None'}]"
            ]
          },
          "execution_count": 2,
          "metadata": {},
          "output_type": "execute_result"
        }
      ],
      "source": [
        "import pickle\n",
        "with open(\"nn_config.pickle\", \"rb\") as f: \n",
        "    config = pickle.load(f)\n",
        "config"
      ]
    },
    {
      "cell_type": "code",
      "execution_count": null,
      "metadata": {
        "id": "2EZUoUiLBY2a"
      },
      "outputs": [],
      "source": [
        "# ======================================================================\n",
        "import gc\n",
        "from sklearn.decomposition import PCA\n",
        "import time\n",
        "\n",
        "\n",
        "start_time = time.time()# Start time\n",
        "start, train_end, test_end = initialization(d_)\n",
        "device = torch.device(\"cuda\" if torch.cuda.is_available() else \"cpu\")\n",
        "nn_acc = []\n",
        "nn_pred = pd.DataFrame()\n",
        "nn_ret = pd.DataFrame()\n",
        "\n",
        "# =========================================================================================\n",
        "# if trained some but haven't finish start here\n",
        "\"\"\"with open(\"/content/drive/MyDrive/Finance/Class/MLandFinance/Finals/result/nn_ret.pickle\", \"rb\") as f:\n",
        "      nn_ret = pickle.load(f)\n",
        "with open(\"/content/drive/MyDrive/Finance/Class/MLandFinance/Finals/result/nn_pred.pickle\", \"rb\") as f:\n",
        "      nn_pred = pickle.load(f)\n",
        "test_end = max(nn_ret.reset_index()[\"年月日\"]) + pd.DateOffset(weeks=1)\n",
        "train_end = test_end - pd.DateOffset(weeks=1)\n",
        "start =  train_end - pd.DateOffset(days=365*20)\"\"\"\n",
        "# =========================================================================================\n",
        "i = 0\n",
        "loss_f = nn.MSELoss()\n",
        "print(nn_ret)\n",
        "print(\"test end from the start: \", test_end)\n",
        "while True:\n",
        "    gc.collect()\n",
        "    i+=1\n",
        "    print(\"-------------rolling {%i}----------------\"%i)\n",
        "    # data\n",
        "    X_train, y_train, X_test, y_test, weight = split_data(d_, start, train_end, test_end)\n",
        "    if X_test.shape[0] == 0:\n",
        "        start, train_end, test_end = update(start, train_end, test_end)\n",
        "        continue\n",
        "\n",
        "    # ---------------------------------------------------------------------\n",
        "    # if categorize y:\n",
        "    \"\"\"quantile_20 = np.percentile(y_train, 20)\n",
        "    quantile_80 = np.percentile(y_train, 80)\n",
        "    y_train = [1 if a > quantile_80 else -1 if a < quantile_20 else 0 for a in y_train]\n",
        "    print(\"y_train: \", y_train)\"\"\"\n",
        "\n",
        "    # ---------------------------------------------------------------------\n",
        "    # if tune for each data\n",
        "    print(\"===> tune start\")\n",
        "    print(\"shapes | \", X_train.shape, np.array(y_train).shape, \" | val: 0.2\")\n",
        "    trial = tune(torch.tensor(np.array(X_train), dtype = torch.float32).to(device),\n",
        "                torch.tensor(np.array(y_train), dtype = torch.float32).to(device), 1)\n",
        "    config = trial.params\n",
        "\n",
        "    # ---------------------------------------------------------------------\n",
        "    # train\n",
        "    print(\"===> training start\")\n",
        "    data = (torch.tensor(np.array(X_train), dtype = torch.float32).to(device),\n",
        "            torch.tensor(np.array(y_train), dtype = torch.float32).to(device),\n",
        "            torch.tensor(np.array(X_test), dtype = torch.float32).to(device),\n",
        "            torch.tensor(np.array(y_test), dtype = torch.float32).to(device))\n",
        "    print(X_train.shape, np.array(y_train).shape, X_test.shape, y_test.shape)\n",
        "    y_hat = train(config, data)\n",
        "\n",
        "    # ---------------------------------------------------------------------\n",
        "    # quantile sort and return\n",
        "    y_hat = pd.DataFrame(y_hat.cpu().detach().numpy(), columns = [\"pred\"]).set_index(y_test.index)\n",
        "    nn_pred, nn_ret = compute_ret(y_test, y_hat, nn_pred, nn_ret, weight)\n",
        "\n",
        "    # ---------------------------------------------------------------------\n",
        "    # store in data file, not in result\n",
        "    \"\"\"\n",
        "    try:\n",
        "        with open(\"/content/drive/MyDrive/Finance/Class/MLandFinance/Finals/result/nn_ret.pickle\", \"wb\") as f:\n",
        "              pickle.dump(nn, f)\n",
        "        with open(\"/content/drive/MyDrive/Finance/Class/MLandFinance/Finals/result/nn_pred.pickle\", \"wb\") as f:\n",
        "              pickle.dump(nn_pred, f)\n",
        "    except:\n",
        "        with open(\"/content/drive/MyDrive/aaaaa/result/nn_ret.pickle\", \"wb\") as f:\n",
        "            pickle.dump(nn, f)\n",
        "        with open(\"/content/drive/MyDrive/aaaaa/result/nn_pred.pickle\", \"wb\") as f:\n",
        "            pickle.dump(nn_pred, f)\"\"\"\n",
        "\n",
        "    # ---------------------------------------------------------------------\n",
        "    # update data\n",
        "    start, train_end, test_end = update(start, train_end, test_end)\n",
        "    if test_end > max(d_.reset_index()[\"年月日\"]):\n",
        "        break\n",
        "\n",
        "    end_time = time.time()\n",
        "    training_duration = end_time - start_time\n",
        "    print(\"Training time: \", training_duration, \" seconds\")\n",
        "# ======================================================================"
      ]
    },
    {
      "cell_type": "markdown",
      "metadata": {
        "id": "mxXUcF5WRZDG"
      },
      "source": [
        "## **Benchmark**"
      ]
    },
    {
      "cell_type": "code",
      "execution_count": null,
      "metadata": {
        "id": "EunCPKiP-Y-1"
      },
      "outputs": [],
      "source": [
        "config_bm = {\n",
        "    \"criterion\": \"market capitalization\"\n",
        "}"
      ]
    },
    {
      "cell_type": "code",
      "execution_count": null,
      "metadata": {
        "id": "wuRdjIuAS_xQ"
      },
      "outputs": [],
      "source": [
        "d_bm = copy.copy(d_)\n",
        "d_bm = d_bm.reset_index()\n",
        "d_bm[\"weight\"] = d_bm.groupby(\"年月日\")['weight'].transform(lambda x:x/x.sum())\n",
        "d_bm = d_bm[[\"年月日\", \"weight\", \"報酬率％_週\"]]\n",
        "start, end, end_test = initialization(d_bm)\n",
        "d_bm = d_bm[d_bm[\"年月日\"] > end]\n",
        "d_bm[\"return\"] = d_bm[\"weight\"] * d_bm[\"報酬率％_週\"]"
      ]
    },
    {
      "cell_type": "code",
      "execution_count": null,
      "metadata": {
        "id": "2hagCddtGx3S"
      },
      "outputs": [],
      "source": [
        "bm_ret = d_bm[\"return\"]"
      ]
    },
    {
      "cell_type": "markdown",
      "metadata": {
        "id": "YJVoCD4B-Po9"
      },
      "source": [
        "#Evaluation"
      ]
    },
    {
      "cell_type": "markdown",
      "metadata": {
        "id": "w6_Db4u8HXt-"
      },
      "source": [
        "#####loading data"
      ]
    },
    {
      "cell_type": "code",
      "execution_count": null,
      "metadata": {
        "id": "zRa11s1pHVrf"
      },
      "outputs": [],
      "source": [
        "with open('/content/drive/MyDrive/aaaaa/result/linear_ret.pickle', 'rb') as f:\n",
        "  linear_ret = pickle.load(f)\n",
        "with open('/content/drive/MyDrive/aaaaa/result/regela_ret.pickle', 'rb') as f:\n",
        "  regela_ret = pickle.load(f)\n",
        "with open('/content/drive/MyDrive/aaaaa/result/xgb_ret.pickle', 'rb') as f:\n",
        "  xgb_ret = pickle.load(f)\n",
        "with open('/content/drive/MyDrive/aaaaa/result/rfr_ret.pickle', 'rb') as f:\n",
        "  rfr_ret = pickle.load(f)\n",
        "with open('/content/drive/MyDrive/aaaaa/result/nn_ret.pickle', 'rb') as f:\n",
        "  nn_ret = pickle.load(f)"
      ]
    },
    {
      "cell_type": "markdown",
      "metadata": {
        "id": "1PCY-NF4HawU"
      },
      "source": [
        "##### main evaluation"
      ]
    },
    {
      "cell_type": "code",
      "execution_count": null,
      "metadata": {
        "id": "KIrhffTL-W79"
      },
      "outputs": [],
      "source": [
        "model_name_list = [\"ols\", \"elastic_net\", \"xgboost\", \"randomforst\", \"neural_network\", \"benchmark\"]\n",
        "ret_list = [linear_ret, regela_ret, xgb_ret, rfr_ret, nn_ret, bm_ret]\n",
        "mean_list = []\n",
        "var_list = []\n",
        "sharpe_list = []\n",
        "for i in range(len(model_name_list)):\n",
        "  m, v, s = evaluation(ret_list[i])\n",
        "  mean_list.append(m)\n",
        "  var_list.append(v)\n",
        "  sharpe_list.append(s)"
      ]
    },
    {
      "cell_type": "code",
      "execution_count": null,
      "metadata": {
        "colab": {
          "base_uri": "https://localhost:8080/"
        },
        "id": "SBLz9KJGv1r9",
        "outputId": "fef7e496-97dc-4484-b190-82f8db3d4a1a"
      },
      "outputs": [
        {
          "name": "stdout",
          "output_type": "stream",
          "text": [
            "Mean of ols strategy: 0.7507\n",
            "Variance of ols strategy: 3.4019\n",
            "Sharpe of ols strategy: 1.5912\n",
            "\n",
            "Mean of elastic_net strategy: 0.9331\n",
            "Variance of elastic_net strategy: 3.335\n",
            "Sharpe of elastic_net strategy: 2.0175\n",
            "\n",
            "Mean of xgboost strategy: -0.1885\n",
            "Variance of xgboost strategy: 3.5802\n",
            "Sharpe of xgboost strategy: -0.3797\n",
            "\n",
            "Mean of randomforst strategy: -1.4531\n",
            "Variance of randomforst strategy: 3.5235\n",
            "Sharpe of randomforst strategy: -2.9739\n",
            "\n",
            "Mean of neural_network strategy: 0.2776\n",
            "Variance of neural_network strategy: 2.9123\n",
            "Sharpe of neural_network strategy: 0.6874\n",
            "\n",
            "Mean of benchmark strategy: 0.0009\n",
            "Variance of benchmark strategy: 0.3756\n",
            "Sharpe of benchmark strategy: 0.0172\n",
            "\n"
          ]
        }
      ],
      "source": [
        "for i in range(len(model_name_list)):\n",
        "  model_name = model_name_list[i]\n",
        "  m = mean_list[i]\n",
        "  v = var_list[i]\n",
        "  s = sharpe_list[i]\n",
        "  print(f\"Mean of {model_name} strategy: {round(float(m), 4)}\")\n",
        "  print(f\"Variance of {model_name} strategy: {round(float(v), 4)}\")\n",
        "  print(f\"Sharpe of {model_name} strategy: {round(float(s), 4)}\\n\")"
      ]
    },
    {
      "cell_type": "markdown",
      "metadata": {
        "id": "xn1TN5fwuzUV"
      },
      "source": [
        "#HW4"
      ]
    },
    {
      "cell_type": "markdown",
      "metadata": {
        "id": "kg64MS937lAI"
      },
      "source": [
        "#####changing index"
      ]
    },
    {
      "cell_type": "code",
      "execution_count": null,
      "metadata": {
        "id": "fBztQRSCBW_9"
      },
      "outputs": [],
      "source": [
        "d_hw4 = copy.copy(d_)\n",
        "d_hw4.columns = [\n",
        "    'Opening Price (NTD)_Weekly',\n",
        "    'Highest Price (NTD)_Weekly',\n",
        "    'Lowest Price (NTD)_Weekly',\n",
        "    'Closing Price (NTD)_Weekly',\n",
        "    'Trading Volume (Thousand Shares)_Weekly',\n",
        "    'Trading Value (Thousand NTD)_Weekly',\n",
        "    'Turnover Rate %_Weekly',\n",
        "    'Outstanding Shares (Thousand Shares)_x',\n",
        "    'Market Value (Million NTD)',\n",
        "    'Number of Transactions',\n",
        "    'Price-to-Book Ratio-TEJ',\n",
        "    'Price-to-Sales Ratio-TEJ',\n",
        "    'Price Change (NTD)',\n",
        "    'High-Low Price Difference %',\n",
        "    'Monthly Revenue (Thousand NTD)',\n",
        "    'Last Year Monthly Revenue (Thousand NTD)',\n",
        "    'Monthly Revenue Growth Rate %',\n",
        "    'Monthly Revenue vs. Previous Month %',\n",
        "    'Monthly Revenue vs. Previous Month %-Number of Months',\n",
        "    'Accumulated Revenue (Thousand NTD)',\n",
        "    'Last Year Accumulated Revenue (Thousand NTD)',\n",
        "    'Accumulated Revenue Growth Rate %',\n",
        "    'Historical Highest Monthly Revenue (Thousand NTD)',\n",
        "    'Historical Highest Monthly Revenue-Year and Month',\n",
        "    'Percentage of Historical Highest Monthly Revenue',\n",
        "    'Historical Lowest Monthly Revenue (Thousand NTD)',\n",
        "    'Historical Lowest Monthly Revenue-Year and Month',\n",
        "    'Percentage of Historical Lowest Monthly Revenue',\n",
        "    'Breaking N-Month High/Low (Number of Months)',\n",
        "    'Recent 12-Month Accumulated Revenue (Thousand NTD)',\n",
        "    'Last Year Recent 12-Month Accumulated Revenue',\n",
        "    'Recent 12-Month Accumulated Revenue Growth Rate',\n",
        "    'Recent 3-Month Accumulated Revenue (Thousand NTD)',\n",
        "    'Last Year Recent 3-Month Accumulated Revenue',\n",
        "    'Recent 3-Month Accumulated Revenue Growth Rate',\n",
        "    'Recent 3-Month Accumulated Revenue vs. Previous Month %',\n",
        "    'Recent 3-Month Accumulated Revenue Variation %',\n",
        "    'Net Worth (Thousand NTD)',\n",
        "    'Endorsement Guarantee Balance (Thousand NTD)-Parent Company',\n",
        "    'Percentage of Endorsement Guarantee to Net Worth-Parent Company',\n",
        "    'Capital and Loan Balance (Thousand NTD)-Parent Company',\n",
        "    'Percentage of Capital and Loan to Net Worth-Parent Company',\n",
        "    'Outstanding Shares (Thousand Shares)_y',\n",
        "    'Monthly Revenue per Share (NTD)',\n",
        "    'Accumulated Revenue per Share (NTD)',\n",
        "    'Recent 12-Month Revenue per Share',\n",
        "    'Recent 3-Month Revenue per Share',\n",
        "    'Book Value per Share (NTD)',\n",
        "    'Consolidated Monthly Revenue (Thousand NTD)',\n",
        "    'Consolidated Monthly Revenue Growth Rate %',\n",
        "    'Consolidated Monthly Revenue vs. Previous Month %',\n",
        "    'Consolidated Accumulated Revenue (Thousand NTD)',\n",
        "    'Consolidated Accumulated Revenue Growth Rate %',\n",
        "    'Foreign Investor Net Buying/Selling (Thousand Shares)',\n",
        "    'Foreign Investor Net Buying/Selling Market Value (Million NTD)',\n",
        "    'Total Foreign Investor Investment Shares (Thousand Shares)',\n",
        "    'Total Foreign Investor Investment Market Value (Million NTD)',\n",
        "    'Securities Investment Trust Net Buying/Selling (Thousand Shares)',\n",
        "    'Securities Investment Trust Net Buying/Selling Market Value (Million NTD)',\n",
        "    'Securities Investment Trust Holdings (Thousand Shares)',\n",
        "    'Securities Investment Trust Holdings Market Value (Million NTD)',\n",
        "    'Proprietary Trading Net Buying/Selling (Thousand Shares)',\n",
        "    'Proprietary Trading Net Buying/Selling Market Value (Million NTD)',\n",
        "    'Proprietary Trading Holdings (Thousand Shares)',\n",
        "    'Proprietary Trading Holdings Market Value (Million NTD)',\n",
        "    'Total Net Buying/Selling (Thousand Shares)',\n",
        "    'Total Net Buying/Selling Market Value (Million NTD)',\n",
        "    'Total Holdings (Thousand Shares)',\n",
        "    'Total Holdings Market Value (Million NTD)',\n",
        "    'Foreign Investor Buy Volume',\n",
        "    'Foreign Investor Sell Volume',\n",
        "    'Securities Investment Trust Buy Volume',\n",
        "    'Securities Investment Trust Sell Volume',\n",
        "    'Proprietary Trading Buy Volume',\n",
        "    'Proprietary Trading Sell Volume',\n",
        "    'Foreign Investor Total Investment Percentage %',\n",
        "    'Securities Investment Trust Holdings Percentage %',\n",
        "    'Proprietary Trading Holdings Percentage %',\n",
        "    'Total Holdings Percentage %',\n",
        "    'Foreign Investor Turnover Rate %',\n",
        "    'Securities Investment Trust Turnover Rate %',\n",
        "    'Proprietary Trading Turnover Rate %',\n",
        "    'Outstanding Shares (Thousand Shares)',\n",
        "    'Market Category_OTC',\n",
        "    'Market Category_TSE',\n",
        "    'Return Rate %_Weekly'\n",
        "]"
      ]
    },
    {
      "cell_type": "code",
      "execution_count": null,
      "metadata": {
        "id": "GNLIdVYoBza8"
      },
      "outputs": [],
      "source": [
        "d_hw4.head()"
      ]
    },
    {
      "cell_type": "markdown",
      "metadata": {
        "id": "bk3V8heL7pGp"
      },
      "source": [
        "##### function redefining"
      ]
    },
    {
      "cell_type": "code",
      "execution_count": null,
      "metadata": {
        "id": "caoR4WKJCe6k"
      },
      "outputs": [],
      "source": [
        "def split_data(d_, start, train_end, test_end):\n",
        "  temp_d = copy.copy(d_)\n",
        "  d_train = temp_d.reset_index()[(d_.reset_index()[\"年月日\"] >= start) & (d_.reset_index()[\"年月日\"] <= train_end)].set_index([\"證券代碼\", \"年月日\"])\n",
        "  d_test = temp_d.reset_index()[(d_.reset_index()[\"年月日\"] >= train_end) & (d_.reset_index()[\"年月日\"] <= test_end)].set_index([\"證券代碼\", \"年月日\"])\n",
        "  X_train = d_train.drop([\"Return Rate %_Weekly\", \"weight\"], axis = 1)\n",
        "  y_train = d_train[\"Return Rate %_Weekly\"]\n",
        "  weight = d_test[\"weight\"]\n",
        "  X_test = d_test.drop([\"Return Rate %_Weekly\", \"weight\"], axis = 1)\n",
        "  y_test = d_test[\"Return Rate %_Weekly\"]\n",
        "  return X_train, y_train, X_test, y_test, weight"
      ]
    },
    {
      "cell_type": "code",
      "execution_count": null,
      "metadata": {
        "id": "P3pAViZau1rh"
      },
      "outputs": [],
      "source": [
        "# tune in train\n",
        "start, train_end, test_end = initialization(d_)\n",
        "rfr_pred = pd.DataFrame()\n",
        "rfr_ret = pd.DataFrame()\n",
        "i=0\n",
        "\n",
        "rfr_best_params_ensemble = {'bootstrap': True, 'max_depth': 5, 'max_leaf_nodes': 30, 'n_estimators': 41}\n",
        "X_train, y_train, X_test, y_test, weight = split_data(d_hw4, start, train_end, test_end)\n",
        "rfr = RandomForestRegressor(random_state = 321, **rfr_best_params_ensemble)\n",
        "rfr.fit(X_train, y_train)\n",
        "y_hat = pd.DataFrame(rfr.predict(X_test), columns = [\"pred\"]).set_index(y_test.index)\n",
        "\n"
      ]
    },
    {
      "cell_type": "code",
      "execution_count": null,
      "metadata": {
        "colab": {
          "base_uri": "https://localhost:8080/"
        },
        "id": "8KM7cav9u859",
        "outputId": "4daa8bf5-f581-43c5-f442-8a0c2b6c5913"
      },
      "outputs": [
        {
          "name": "stdout",
          "output_type": "stream",
          "text": [
            "Looking in indexes: https://pypi.org/simple, https://us-python.pkg.dev/colab-wheels/public/simple/\n",
            "Collecting shap\n",
            "  Downloading shap-0.41.0-cp310-cp310-manylinux_2_12_x86_64.manylinux2010_x86_64.whl (572 kB)\n",
            "\u001b[2K     \u001b[90m━━━━━━━━━━━━━━━━━━━━━━━━━━━━━━━━━━━━━━\u001b[0m \u001b[32m572.6/572.6 kB\u001b[0m \u001b[31m19.8 MB/s\u001b[0m eta \u001b[36m0:00:00\u001b[0m\n",
            "\u001b[?25hRequirement already satisfied: numpy in /usr/local/lib/python3.10/dist-packages (from shap) (1.22.4)\n",
            "Requirement already satisfied: scipy in /usr/local/lib/python3.10/dist-packages (from shap) (1.10.1)\n",
            "Requirement already satisfied: scikit-learn in /usr/local/lib/python3.10/dist-packages (from shap) (1.2.2)\n",
            "Requirement already satisfied: pandas in /usr/local/lib/python3.10/dist-packages (from shap) (1.5.3)\n",
            "Requirement already satisfied: tqdm>4.25.0 in /usr/local/lib/python3.10/dist-packages (from shap) (4.65.0)\n",
            "Requirement already satisfied: packaging>20.9 in /usr/local/lib/python3.10/dist-packages (from shap) (23.1)\n",
            "Collecting slicer==0.0.7 (from shap)\n",
            "  Downloading slicer-0.0.7-py3-none-any.whl (14 kB)\n",
            "Requirement already satisfied: numba in /usr/local/lib/python3.10/dist-packages (from shap) (0.56.4)\n",
            "Requirement already satisfied: cloudpickle in /usr/local/lib/python3.10/dist-packages (from shap) (2.2.1)\n",
            "Requirement already satisfied: llvmlite<0.40,>=0.39.0dev0 in /usr/local/lib/python3.10/dist-packages (from numba->shap) (0.39.1)\n",
            "Requirement already satisfied: setuptools in /usr/local/lib/python3.10/dist-packages (from numba->shap) (67.7.2)\n",
            "Requirement already satisfied: python-dateutil>=2.8.1 in /usr/local/lib/python3.10/dist-packages (from pandas->shap) (2.8.2)\n",
            "Requirement already satisfied: pytz>=2020.1 in /usr/local/lib/python3.10/dist-packages (from pandas->shap) (2022.7.1)\n",
            "Requirement already satisfied: joblib>=1.1.1 in /usr/local/lib/python3.10/dist-packages (from scikit-learn->shap) (1.2.0)\n",
            "Requirement already satisfied: threadpoolctl>=2.0.0 in /usr/local/lib/python3.10/dist-packages (from scikit-learn->shap) (3.1.0)\n",
            "Requirement already satisfied: six>=1.5 in /usr/local/lib/python3.10/dist-packages (from python-dateutil>=2.8.1->pandas->shap) (1.16.0)\n",
            "Installing collected packages: slicer, shap\n",
            "Successfully installed shap-0.41.0 slicer-0.0.7\n"
          ]
        }
      ],
      "source": [
        "pip install shap"
      ]
    },
    {
      "cell_type": "code",
      "execution_count": null,
      "metadata": {
        "id": "WpzwmV8YvAsq"
      },
      "outputs": [],
      "source": [
        "import shap"
      ]
    },
    {
      "cell_type": "code",
      "execution_count": null,
      "metadata": {
        "colab": {
          "base_uri": "https://localhost:8080/"
        },
        "id": "4XpurA6RvHoU",
        "outputId": "dafb7668-2805-4406-a305-b0ce24f215c8"
      },
      "outputs": [
        {
          "name": "stderr",
          "output_type": "stream",
          "text": [
            "Permutation explainer: 50285it [1:21:14, 10.30it/s]\n"
          ]
        }
      ],
      "source": [
        "explainer = shap.Explainer(rfr.predict, X_train)\n",
        "shap_values = explainer(X_train)"
      ]
    },
    {
      "cell_type": "markdown",
      "metadata": {
        "id": "dcRZP84_FAkz"
      },
      "source": [
        "##### prob1"
      ]
    },
    {
      "cell_type": "code",
      "execution_count": null,
      "metadata": {
        "colab": {
          "base_uri": "https://localhost:8080/",
          "height": 617
        },
        "id": "_kRsWbN3wjhh",
        "outputId": "be128ad9-2528-46c1-fe60-a70ec0b37992"
      },
      "outputs": [
        {
          "data": {
            "image/png": "[encoded data removed]",
            "text/plain": [
              "<Figure size 800x650 with 3 Axes>"
            ]
          },
          "metadata": {},
          "output_type": "display_data"
        }
      ],
      "source": [
        "shap.plots.waterfall(shap_values[0])"
      ]
    },
    {
      "cell_type": "markdown",
      "metadata": {
        "id": "YN9ZTMCnE9EP"
      },
      "source": [
        "##### prob2"
      ]
    },
    {
      "cell_type": "code",
      "execution_count": null,
      "metadata": {
        "id": "IsavomECDp4J"
      },
      "outputs": [],
      "source": [
        "from sklearn.inspection import PartialDependenceDisplay"
      ]
    },
    {
      "cell_type": "code",
      "execution_count": null,
      "metadata": {
        "colab": {
          "base_uri": "https://localhost:8080/",
          "height": 449
        },
        "id": "VZbJDxuOJOnq",
        "outputId": "45cd3202-3872-4ab9-fd1c-8ce2597a6b18"
      },
      "outputs": [
        {
          "data": {
            "image/png": "[encoded data removed]",
            "text/plain": [
              "<Figure size 640x480 with 2 Axes>"
            ]
          },
          "metadata": {},
          "output_type": "display_data"
        }
      ],
      "source": [
        "pdp_percentage_of_historical = PartialDependenceDisplay.from_estimator(rfr, X_train, ['Percentage of Historical Highest Monthly Revenue'])"
      ]
    },
    {
      "cell_type": "code",
      "execution_count": null,
      "metadata": {
        "colab": {
          "base_uri": "https://localhost:8080/",
          "height": 449
        },
        "id": "ft1Qg5LZLPvy",
        "outputId": "cbc00eff-2e86-4af0-f3b6-ec0957d5f658"
      },
      "outputs": [
        {
          "data": {
            "image/png": "[encoded data removed]",
            "text/plain": [
              "<Figure size 640x480 with 2 Axes>"
            ]
          },
          "metadata": {},
          "output_type": "display_data"
        }
      ],
      "source": [
        "pdp_num_of_transaction = PartialDependenceDisplay.from_estimator(rfr, X_train, ['Number of Transactions'])"
      ]
    },
    {
      "cell_type": "markdown",
      "metadata": {
        "id": "jd7e0CpiVGkl"
      },
      "source": [
        "# Others"
      ]
    },
    {
      "cell_type": "markdown",
      "metadata": {
        "id": "y0MqalEjVKH4"
      },
      "source": [
        "### NN first version"
      ]
    },
    {
      "cell_type": "markdown",
      "metadata": {
        "id": "JPzQp_NJc8M6"
      },
      "source": [
        "###### settings"
      ]
    },
    {
      "cell_type": "code",
      "execution_count": null,
      "metadata": {
        "id": "_yYurlBEEJB2"
      },
      "outputs": [],
      "source": [
        "!pip install ray\n",
        "!pip install -U tensorboardx\n",
        "!pip install mlflow\n",
        "import tensorflow\n",
        "tensorflow.__version__"
      ]
    },
    {
      "cell_type": "code",
      "execution_count": null,
      "metadata": {
        "id": "U_NDBPQZRh2M"
      },
      "outputs": [],
      "source": [
        "from ray import tune\n",
        "from ray.tune import CLIReporter\n",
        "from ray.tune.schedulers import ASHAScheduler\n",
        "from functools import partial\n",
        "from ray.air import Checkpoint, session\n",
        "from ray.tune import Tuner\n",
        "from ray import tune\n",
        "import torch\n",
        "import torch.nn as nn\n",
        "from torch.utils.data import Dataset, DataLoader\n",
        "import torch.nn.functional as F"
      ]
    },
    {
      "cell_type": "markdown",
      "metadata": {
        "id": "uJX3GqYjATkW"
      },
      "source": [
        "###### model"
      ]
    },
    {
      "cell_type": "code",
      "execution_count": null,
      "metadata": {
        "id": "Rqmq6j-BAKgr"
      },
      "outputs": [],
      "source": [
        "def clones(module, N):\n",
        "    \"Produce N identical layers.\"\n",
        "    return nn.ModuleList([copy.deepcopy(module) for _ in range(N)])\n",
        "\n",
        "class Data(Dataset):\n",
        "    def __init__(self, X, y):\n",
        "        self.X = X\n",
        "        self.y = y\n",
        "\n",
        "    def __len__(self):\n",
        "        return len(self.X)\n",
        "\n",
        "    def __getitem__(self, idx):\n",
        "        return (self.X[idx], self.y[idx])\n",
        "\n",
        "class TwoLayer(nn.Module):\n",
        "    def __init__(self, i_s, h_s, o_s = 1, num_layer = 1, activation = None):\n",
        "      super(TwoLayer, self).__init__()\n",
        "      self.w1 = nn.Linear(i_s, h_s)\n",
        "      self.w2 = nn.Linear(h_s, i_s)\n",
        "      self.w3 = nn.Linear(i_s, o_s)\n",
        "      self.dropout1 = nn.Dropout(0.25)\n",
        "      self.dropout2 = nn.Dropout(0.5)\n",
        "      self.norm1 = nn.BatchNorm1d(h_s)\n",
        "      self.norm2 = nn.BatchNorm1d(i_s)\n",
        "      self.activation_f = nn.ReLU()\n",
        "      self.activation = activation\n",
        "    def forward(self, x, last = False):\n",
        "      # a = x\n",
        "      x = self.w1(x)\n",
        "      if self.activation == True:\n",
        "        x = self.activation_f(x)\n",
        "      x = self.norm1(x)\n",
        "\n",
        "      x = self.w2(x)\n",
        "      if self.activation == True:\n",
        "        x = self.activation_f(x)\n",
        "      x = self.norm2(x)\n",
        "      # x = a+x\n",
        "      if last == True:\n",
        "        x = self.w3(x)\n",
        "      return x\n",
        "\n",
        "class Net(nn.Module):\n",
        "    def __init__(self, layer, num_layer = 1):\n",
        "      super(Net, self).__init__()\n",
        "      self.num_layer = num_layer\n",
        "      self.layer = layer\n",
        "      self.layers = clones(self.layer, self.num_layer)\n",
        "\n",
        "    def forward(self, X):\n",
        "      output = X\n",
        "      for k, mod in enumerate(self.layers):\n",
        "        if (k+1) == self.num_layer:\n",
        "          output = mod(output, last = True)\n",
        "        else:\n",
        "          output = mod(output)\n",
        "      return output"
      ]
    },
    {
      "cell_type": "code",
      "execution_count": null,
      "metadata": {
        "id": "c9P0viXPNgtO"
      },
      "outputs": [],
      "source": [
        "import tensorflow as tf\n",
        "device_name = tf.test.gpu_device_name()\n",
        "if device_name != '/device:GPU:0':\n",
        "  pass\n",
        "print('Found GPU at: {}'.format(device_name))"
      ]
    },
    {
      "cell_type": "markdown",
      "metadata": {
        "id": "bJkqgcQqdizO"
      },
      "source": [
        "###### tuning hyperparameter"
      ]
    },
    {
      "cell_type": "code",
      "execution_count": null,
      "metadata": {
        "id": "8TM_qtiQAatf"
      },
      "outputs": [],
      "source": [
        "def load_data(data_dir):\n",
        "  with open(\"/content/drive/MyDrive/data/data.pickle\", \"rb\") as f:\n",
        "    d_ = pickle.load(f)\n",
        "  return d_\n",
        "\n",
        "# tune\n",
        "def train(config, data):\n",
        "\n",
        "  device = torch.device(\"cuda\" if torch.cuda.is_available() else \"cpu\")\n",
        "  epoch = config[\"epoch\"]\n",
        "  X_train, y_train, X_test, y_test = data[0], data[1], data[2], data[3]\n",
        "  dataset = Data(torch.tensor(np.array(X_train), dtype = torch.float32),\n",
        "          torch.tensor(np.array(y_train), dtype = torch.float32))\n",
        "  train_loader = DataLoader(dataset, batch_size=256, shuffle=False)\n",
        "  val_dataset = Data(torch.tensor(np.array(X_test), dtype = torch.float32),\n",
        "          torch.tensor(np.array(y_test), dtype = torch.float32))\n",
        "  test_loader = DataLoader(val_dataset, batch_size=config[\"batch_size\"], shuffle=False)\n",
        "  layer = TwoLayer(X_train.shape[1], config[\"node_size\"], 1, config[\"activation\"]).to(device)\n",
        "  model = Net(layer,config[\"layer_clone\"]).to(device)\n",
        "  optimizer = torch.optim.Adam(model.parameters(), lr=config[\"lr\"])\n",
        "\n",
        "  loss_f = nn.MSELoss()\n",
        "  loss_old = 100000\n",
        "  loss_all = 0\n",
        "  for s in range(epoch):\n",
        "    loss_all = 0\n",
        "    for i, (X, y) in enumerate(train_loader):\n",
        "      output = torch.squeeze(model(X.to(device)))\n",
        "\n",
        "      loss = loss_f(output, y.to(device))\n",
        "      for k, mod in enumerate(model.layers):\n",
        "        if config[\"regulariztion\"] == True:\n",
        "          loss += config[\"reg_coef\"] \\\n",
        "            * (torch.sum(mod.w1.bias**2)+torch.sum(mod.w2.bias**2) + torch.sum(mod.w1.weight**2)+torch.sum(mod.w2.weight**2))\n",
        "        if config[\"regulariztion\"] == False:\n",
        "          pass\n",
        "      loss.backward()\n",
        "\n",
        "      if config[\"scheduler\"] == \"cosine\":\n",
        "        scheduler = torch.optim.lr_scheduler.CosineAnnealingLR(optimizer, T_max=150, eta_min=0, last_epoch=- 1, verbose=False)\n",
        "        scheduler.step()\n",
        "\n",
        "      if config[\"scheduler\"] == \"None\":\n",
        "        optimizer.step()\n",
        "\n",
        "      optimizer.zero_grad()\n",
        "      loss_all += loss\n",
        "    if loss_all > loss_old:\n",
        "      model.load_state_dict(torch.load('model.pth'))\n",
        "      optimizer.param_groups[0]['lr'] = optimizer.param_groups[0]['lr'] * 0.8\n",
        "      if optimizer.param_groups[0]['lr'] < 1e-5:\n",
        "        break\n",
        "    else:\n",
        "      torch.save(model.state_dict(), 'model.pth')\n",
        "      loss_old = loss_all\n",
        "    print(f\"epoch:{s}. loss = {loss_all/i+1}\")\n",
        "\n",
        "  val_loss = 0\n",
        "  for i, (X, y) in enumerate(test_loader):\n",
        "    with torch.no_grad():\n",
        "      output = torch.squeeze(model(X.to(device)))\n",
        "      val_loss = loss_f(output, y.to(device))\n",
        "  val_steps = i+1\n",
        "\n",
        "  # tune.report(loss = (val_loss / val_steps).cpu())\n",
        "  return output"
      ]
    },
    {
      "cell_type": "code",
      "execution_count": null,
      "metadata": {
        "id": "9OVHFeoXAi7P"
      },
      "outputs": [],
      "source": [
        "# tune\n",
        "# | train_8a7b4_00000 | TERMINATED | 172.28.0.12:61843 | activation <built-in metho_9260 |\n",
        "# batch 256 | epcoh  40 | layers 9 | lr 0.01 | node 308 | reg coef 0.001 | reg False | scheduler None | tensor(35.1675) |\n",
        "# | train_5677d_00015 | TERMINATED | 172.28.0.12:9850 | <built-in metho_c040 |\n",
        "#  256 |      44 |             6 | 0.000685502 |         225 |     0.001  | True            | None        | tensor(35.5661) |                    1 |\n",
        "import mlflow\n",
        "import gc\n",
        "gc.collect()\n",
        "def main(num_samples=10, max_num_epochs=1):\n",
        "  data_dir = os.path.abspath(\"/content/drive/MyDrive/data/\")\n",
        "  d_ = load_data(data_dir)\n",
        "\n",
        "  start, train_end, test_end = initialization()\n",
        "  X_train, y_train, X_test, y_test, weight = split_data(d_, start, train_end, test_end)\n",
        "  data = (X_train, y_train, X_test, y_test, weight)\n",
        "  config = {\n",
        "      \"node_size\": tune.randint(4, 512),\n",
        "      \"activation\": tune.choice([True, False]),\n",
        "      \"layer_clone\": tune.randint(1, 10),\n",
        "      # \"opt\": tune.choice([\"sgd\"]),\n",
        "      \"batch_size\": tune.choice([256]),\n",
        "      \"epoch\": tune.randint(10, 50),\n",
        "      \"scheduler\": tune.choice([\"cosine\", \"None\"]),\n",
        "      \"regulariztion\": tune.choice([True, False]),\n",
        "      \"lr\": tune.loguniform(0.1,0.0001),\n",
        "      \"reg_coef\": tune.choice([0.01, 0.001, 0.0001])\n",
        "\n",
        "  }\n",
        "\n",
        "  scheduler = ASHAScheduler(\n",
        "    metric=\"loss\",\n",
        "    mode=\"min\",\n",
        "    max_t=max_num_epochs,\n",
        "    grace_period=1,\n",
        "    reduction_factor=2)\n",
        "\n",
        "  reporter = CLIReporter(\n",
        "    # parameter_columns=[\"l1\", \"l2\", \"lr\", \"batch_size\"],\n",
        "    metric_columns=[\"loss\", \"accuracy\", \"training_iteration\"])\n",
        "\n",
        "  result = tune.run(\n",
        "    partial(train, data = data),\n",
        "    resources_per_trial={\"cpu\": 2, \"gpu\": 1},\n",
        "    config=config,\n",
        "    num_samples=num_samples,\n",
        "    scheduler=scheduler,\n",
        "    progress_reporter=reporter, verbose=3\n",
        "    )\n",
        "\n",
        "\n",
        "  best_trial = result.get_best_trial(\"loss\", \"min\", \"last\")\n",
        "  print(\"Best trial config: {}\".format(best_trial))\n",
        "  print(\"Best trial final validation loss: {}\".format(\n",
        "        best_trial.last_result[\"loss\"]))\n",
        "  print(\"Best trial final validation accuracy: {}\".format(\n",
        "        best_trial.last_result[\"accuracy\"]))\n",
        "\n",
        "  return result\n",
        "\"\"\"\n",
        "if __name__ == \"__main__\":\n",
        "    # You can change the number of GPUs per trial here:\n",
        "    main(num_samples=20, max_num_epochs=3)\"\"\""
      ]
    },
    {
      "cell_type": "markdown",
      "metadata": {
        "id": "tTH65_a_6Nbh"
      },
      "source": [
        "##### training"
      ]
    },
    {
      "cell_type": "code",
      "execution_count": null,
      "metadata": {
        "id": "QHc4EoSTc0fs"
      },
      "outputs": [],
      "source": [
        "# train\n",
        "# | train_8a7b4_00000 | TERMINATED | 172.28.0.12:61843 | activation <built-in metho_9260 |\n",
        "# batch 256 | epcoh  40 | layers 9 | lr 0.01 | node 308 | reg coef 0.001 | reg False | scheduler None | tensor(35.1675) |\n",
        "# |   256 |    45  |     1 | 0.00262791|    477 |     0.0001 | False    | None       | tensor(14.2560) |                    1 |\n",
        "# |<built-in metho_8680\n",
        "      # \"opt\": tune.choice([\"sgd\"]),\n",
        "config = {\n",
        "      \"node_size\": 477,\n",
        "      \"activation\": torch.relu,\n",
        "      \"layer_clone\": 1,\n",
        "      \"batch_size\": 256,\n",
        "      \"epoch\": 45,\n",
        "      \"scheduler\": \"None\",\n",
        "      \"regulariztion\": False,\n",
        "      \"lr\": 0.0026,\n",
        "      \"reg_coef\": 0.0001\n",
        "  }\n",
        "from sklearn.decomposition import PCA\n",
        "start, train_end, test_end = initialization()\n",
        "device = torch.device(\"cuda\" if torch.cuda.is_available() else \"cpu\")\n",
        "nn_acc = []\n",
        "nn_pred = pd.DataFrame()\n",
        "nn_ret = pd.DataFrame()\n",
        "i = 0\n",
        "loss_f = nn.MSELoss()\n",
        "while True:\n",
        "    # data\n",
        "    i+=1\n",
        "    print(\"-------------rolling {%i}----------------\"%i)\n",
        "    # data\n",
        "    X_train, y_train, X_test, y_test, weight = split_data(d_, start, train_end, test_end)\n",
        "    if X_test.shape[0] == 0:\n",
        "      # update data\n",
        "      start, train_end, test_end = update(start, train_end, test_end)\n",
        "      continue\n",
        "    data = (X_train, y_train, X_test, y_test, weight)\n",
        "\n",
        "    y_hat = train(config, data)\n",
        "    # quantile sort and return\n",
        "    # ---------------groupby----------------\n",
        "    y_hat = pd.DataFrame(y_hat.cpu().detach().numpy(), columns = [\"pred\"]).set_index(y_test.index)\n",
        "    nn_pred, nn_ret = compute_ret(y_test, y_hat, nn_pred, nn_ret)\n",
        "    print(nn_ret)\n",
        "    # update data\n",
        "    start, train_end, test_end = update(start, train_end, test_end)\n",
        "    with open(\"/content/drive/MyDrive/result/nn_ret.pickle\", \"wb\") as f:\n",
        "      pickle.dump(nn_ret, f)\n",
        "    with open(\"/content/drive/MyDrive/result/nn_pred.pickle\", \"wb\") as f:\n",
        "      pickle.dump(nn_pred, f)\n",
        "    if test_end > max(d_.reset_index()[\"年月日\"]):\n",
        "      break"
      ]
    }
  ],
  "metadata": {
    "colab": {
      "collapsed_sections": [
        "eJeectII-JOD",
        "3romliCWkTbQ",
        "YcDFI0JpZHxw",
        "8dUVK0yY-Cq6",
        "v1QqUK0NviPI",
        "aeKTE7VCM_fw",
        "cd5q9ktNRRkP",
        "stlL9T6-SqWV",
        "wYSztq-mjHq8",
        "7myXJowrlFGh",
        "MxETIaXdhq95",
        "x1cVcL4FUQoL",
        "jbvzFcXuhnkY",
        "SkuQkn2pqhkj",
        "P087UBAzQ8t6",
        "0qDfbEB_l7TG",
        "8Oco3lmpl-wf",
        "KZ4DWbtB03EG",
        "r1kXqjah1PxU",
        "jPeeLtK2vZAo",
        "6r9n3AZclXxs",
        "5tLXw4NQllH_",
        "_z_7j8jqvePv",
        "F9uYuqwXl8Dr",
        "cunoqtMQmDQ0",
        "2JD79l5sRHkZ",
        "mxXUcF5WRZDG",
        "YJVoCD4B-Po9",
        "jd7e0CpiVGkl",
        "y0MqalEjVKH4",
        "JPzQp_NJc8M6",
        "uJX3GqYjATkW",
        "bJkqgcQqdizO",
        "tTH65_a_6Nbh"
      ],
      "gpuType": "T4",
      "provenance": []
    },
    "kernelspec": {
      "display_name": "Python 3",
      "name": "python3"
    },
    "language_info": {
      "codemirror_mode": {
        "name": "ipython",
        "version": 3
      },
      "file_extension": ".py",
      "mimetype": "text/x-python",
      "name": "python",
      "nbconvert_exporter": "python",
      "pygments_lexer": "ipython3",
      "version": "3.10.4"
    }
  },
  "nbformat": 4,
  "nbformat_minor": 0
}
